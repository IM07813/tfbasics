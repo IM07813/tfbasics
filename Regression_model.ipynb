{
  "nbformat": 4,
  "nbformat_minor": 0,
  "metadata": {
    "colab": {
      "provenance": [],
      "authorship_tag": "ABX9TyOrYGUwtY8ZFQR4NuQBoFNM",
      "include_colab_link": true
    },
    "kernelspec": {
      "name": "python3",
      "display_name": "Python 3"
    },
    "language_info": {
      "name": "python"
    }
  },
  "cells": [
    {
      "cell_type": "markdown",
      "metadata": {
        "id": "view-in-github",
        "colab_type": "text"
      },
      "source": [
        "<a href=\"https://colab.research.google.com/github/IM07813/tfbasics/blob/main/Regression_model.ipynb\" target=\"_parent\"><img src=\"https://colab.research.google.com/assets/colab-badge.svg\" alt=\"Open In Colab\"/></a>"
      ]
    },
    {
      "cell_type": "markdown",
      "source": [
        "#regression model\n",
        "1. linear regression \n",
        " 1. it makes the relation between independent and dependent variables through a line of best fit\n",
        "2. non-linear regression models:\n",
        "   1. they do exist, but are far more complex\n",
        "\n",
        "   input or independent variables are features, \n",
        "\n",
        "   output or dependent variables are labels\n",
        "\n",
        "\n",
        "\n"
      ],
      "metadata": {
        "id": "7XOEqD4qsbi4"
      }
    },
    {
      "cell_type": "code",
      "execution_count": null,
      "metadata": {
        "id": "WsXkLw1Ar0mC"
      },
      "outputs": [],
      "source": []
    },
    {
      "cell_type": "code",
      "source": [
        "import tensorflow as tf\n",
        "import numpy as np\n",
        "import matplotlib.pyplot as plt\n",
        "\n",
        "X = np.array([-8., -6., -2., 1. , 2, 5., 8., 11.])\n",
        "Y = X + 10"
      ],
      "metadata": {
        "id": "i7Yxgn2Xw0Xq"
      },
      "execution_count": 1,
      "outputs": []
    },
    {
      "cell_type": "code",
      "source": [
        "plt.scatter(X,Y);"
      ],
      "metadata": {
        "colab": {
          "base_uri": "https://localhost:8080/",
          "height": 430
        },
        "id": "rQIVtJTCxyP1",
        "outputId": "996f96f6-4259-43d1-8609-170250c0bbba"
      },
      "execution_count": 2,
      "outputs": [
        {
          "output_type": "display_data",
          "data": {
            "text/plain": [
              "<Figure size 640x480 with 1 Axes>"
            ],
            "image/png": "[encoded data removed]"
          },
          "metadata": {}
        }
      ]
    },
    {
      "cell_type": "code",
      "source": [
        "house_info = tf.constant(['bedroom', 'bathroom', 'garage'])\n",
        "house_price = tf.constant([564333])\n",
        "house_info , house_price"
      ],
      "metadata": {
        "colab": {
          "base_uri": "https://localhost:8080/"
        },
        "id": "XnLUT1Mmx3CD",
        "outputId": "9fab609c-28ab-49bd-882f-5a07dfaedd63"
      },
      "execution_count": 3,
      "outputs": [
        {
          "output_type": "execute_result",
          "data": {
            "text/plain": [
              "(<tf.Tensor: shape=(3,), dtype=string, numpy=array([b'bedroom', b'bathroom', b'garage'], dtype=object)>,\n",
              " <tf.Tensor: shape=(1,), dtype=int32, numpy=array([564333], dtype=int32)>)"
            ]
          },
          "metadata": {},
          "execution_count": 3
        }
      ]
    },
    {
      "cell_type": "code",
      "source": [
        "X = tf.cast(tf.constant(X),dtype = tf.float32)\n",
        "Y = tf.cast(tf.constant(Y), dtype = tf.float32)"
      ],
      "metadata": {
        "id": "S8eBGIF4yMfI"
      },
      "execution_count": 4,
      "outputs": []
    },
    {
      "cell_type": "code",
      "source": [
        "print(X)\n",
        "print(Y)\n",
        "X[0].shape"
      ],
      "metadata": {
        "colab": {
          "base_uri": "https://localhost:8080/"
        },
        "id": "HQlwe0gXzcR3",
        "outputId": "2caefebd-691d-484a-b1c1-af665618befd"
      },
      "execution_count": 5,
      "outputs": [
        {
          "output_type": "stream",
          "name": "stdout",
          "text": [
            "tf.Tensor([-8. -6. -2.  1.  2.  5.  8. 11.], shape=(8,), dtype=float32)\n",
            "tf.Tensor([ 2.  4.  8. 11. 12. 15. 18. 21.], shape=(8,), dtype=float32)\n"
          ]
        },
        {
          "output_type": "execute_result",
          "data": {
            "text/plain": [
              "TensorShape([])"
            ]
          },
          "metadata": {},
          "execution_count": 5
        }
      ]
    },
    {
      "cell_type": "code",
      "source": [
        "Y.shape\n",
        "from tensorflow import keras\n",
        "import tensorflow as tf\n",
        "\n"
      ],
      "metadata": {
        "id": "SINOc-YHzwop"
      },
      "execution_count": 6,
      "outputs": []
    },
    {
      "cell_type": "markdown",
      "source": [
        "1. getting data ready\n",
        "\n",
        "2. creating a model- define the input and output layers, as well as the hidden layers of a DLM.\n",
        "3. Compiling a model - define the loss function that tells the function how wrong it is and the optimizer which tells the model how to improve the patterns that it's learning and evaluation matrix is what we can use to interpret the performance of our model. \n",
        "4. fitting a model - letting model try to find patterns between X and Y. "
      ],
      "metadata": {
        "id": "V-RlF5id0ANG"
      }
    },
    {
      "cell_type": "markdown",
      "source": [
        "#.Sequential means that go layer after layer in a sequence manner\n",
        "\n"
      ],
      "metadata": {
        "id": "Kprkg4vq07oD"
      }
    },
    {
      "cell_type": "code",
      "source": [
        "\n",
        "tf.random.set_seed(42)\n",
        "model_1 = tf.keras.Sequential([\n",
        "    tf.keras.layers.Dense(100, activation = None),\n",
        "    tf.keras.layers.Dense(100, activation = None),\n",
        "    tf.keras.layers.Dense(1)\n",
        "])\n",
        "model_1.compile(loss=tf.keras.losses.mae,\n",
        "              optimizer= tf.keras.optimizers.Adam(learning_rate=0.001),\n",
        "              metrics = ['mae'])\n"
      ],
      "metadata": {
        "id": "gxrBXezIzx-p"
      },
      "execution_count": 35,
      "outputs": []
    },
    {
      "cell_type": "code",
      "source": [
        "model_1.fit(tf.expand_dims(X, axis = -1), Y, epochs = 100)"
      ],
      "metadata": {
        "colab": {
          "base_uri": "https://localhost:8080/"
        },
        "id": "vPZfFilL19SF",
        "outputId": "8714ea0a-3e66-4ecf-a983-d9228b1ef6e1"
      },
      "execution_count": 36,
      "outputs": [
        {
          "output_type": "stream",
          "name": "stdout",
          "text": [
            "Epoch 1/100\n",
            "3/3 [==============================] - 1s 7ms/step - loss: 91.7471 - mae: 91.7471\n",
            "Epoch 2/100\n",
            "3/3 [==============================] - 0s 4ms/step - loss: 43.6501 - mae: 43.6501\n",
            "Epoch 3/100\n",
            "3/3 [==============================] - 0s 4ms/step - loss: 11.5201 - mae: 11.5201\n",
            "Epoch 4/100\n",
            "3/3 [==============================] - 0s 4ms/step - loss: 27.6538 - mae: 27.6538\n",
            "Epoch 5/100\n",
            "3/3 [==============================] - 0s 5ms/step - loss: 20.9496 - mae: 20.9496\n",
            "Epoch 6/100\n",
            "3/3 [==============================] - 0s 6ms/step - loss: 10.6815 - mae: 10.6815\n",
            "Epoch 7/100\n",
            "3/3 [==============================] - 0s 6ms/step - loss: 14.2020 - mae: 14.2020\n",
            "Epoch 8/100\n",
            "3/3 [==============================] - 0s 5ms/step - loss: 11.2766 - mae: 11.2766\n",
            "Epoch 9/100\n",
            "3/3 [==============================] - 0s 5ms/step - loss: 10.3413 - mae: 10.3413\n",
            "Epoch 10/100\n",
            "3/3 [==============================] - 0s 5ms/step - loss: 11.4789 - mae: 11.4789\n",
            "Epoch 11/100\n",
            "3/3 [==============================] - 0s 4ms/step - loss: 9.9341 - mae: 9.9341\n",
            "Epoch 12/100\n",
            "3/3 [==============================] - 0s 5ms/step - loss: 9.1653 - mae: 9.1653\n",
            "Epoch 13/100\n",
            "3/3 [==============================] - 0s 5ms/step - loss: 9.8898 - mae: 9.8898\n",
            "Epoch 14/100\n",
            "3/3 [==============================] - 0s 5ms/step - loss: 9.3134 - mae: 9.3134\n",
            "Epoch 15/100\n",
            "3/3 [==============================] - 0s 5ms/step - loss: 9.0783 - mae: 9.0783\n",
            "Epoch 16/100\n",
            "3/3 [==============================] - 0s 5ms/step - loss: 9.2506 - mae: 9.2506\n",
            "Epoch 17/100\n",
            "3/3 [==============================] - 0s 6ms/step - loss: 9.0980 - mae: 9.0980\n",
            "Epoch 18/100\n",
            "3/3 [==============================] - 0s 5ms/step - loss: 8.9988 - mae: 8.9988\n",
            "Epoch 19/100\n",
            "3/3 [==============================] - 0s 6ms/step - loss: 8.7654 - mae: 8.7654\n",
            "Epoch 20/100\n",
            "3/3 [==============================] - 0s 6ms/step - loss: 8.6435 - mae: 8.6435\n",
            "Epoch 21/100\n",
            "3/3 [==============================] - 0s 7ms/step - loss: 8.6237 - mae: 8.6237\n",
            "Epoch 22/100\n",
            "3/3 [==============================] - 0s 5ms/step - loss: 8.5965 - mae: 8.5965\n",
            "Epoch 23/100\n",
            "3/3 [==============================] - 0s 5ms/step - loss: 8.3413 - mae: 8.3413\n",
            "Epoch 24/100\n",
            "3/3 [==============================] - 0s 5ms/step - loss: 8.2467 - mae: 8.2467\n",
            "Epoch 25/100\n",
            "3/3 [==============================] - 0s 5ms/step - loss: 8.2719 - mae: 8.2719\n",
            "Epoch 26/100\n",
            "3/3 [==============================] - 0s 7ms/step - loss: 8.1281 - mae: 8.1281\n",
            "Epoch 27/100\n",
            "3/3 [==============================] - 0s 5ms/step - loss: 7.9948 - mae: 7.9948\n",
            "Epoch 28/100\n",
            "3/3 [==============================] - 0s 5ms/step - loss: 7.9333 - mae: 7.9333\n",
            "Epoch 29/100\n",
            "3/3 [==============================] - 0s 5ms/step - loss: 7.7969 - mae: 7.7969\n",
            "Epoch 30/100\n",
            "3/3 [==============================] - 0s 4ms/step - loss: 7.7309 - mae: 7.7309\n",
            "Epoch 31/100\n",
            "3/3 [==============================] - 0s 5ms/step - loss: 7.5466 - mae: 7.5466\n",
            "Epoch 32/100\n",
            "3/3 [==============================] - 0s 5ms/step - loss: 7.5948 - mae: 7.5948\n",
            "Epoch 33/100\n",
            "3/3 [==============================] - 0s 4ms/step - loss: 7.4982 - mae: 7.4982\n",
            "Epoch 34/100\n",
            "3/3 [==============================] - 0s 4ms/step - loss: 7.4041 - mae: 7.4041\n",
            "Epoch 35/100\n",
            "3/3 [==============================] - 0s 5ms/step - loss: 7.2625 - mae: 7.2625\n",
            "Epoch 36/100\n",
            "3/3 [==============================] - 0s 4ms/step - loss: 7.2510 - mae: 7.2510\n",
            "Epoch 37/100\n",
            "3/3 [==============================] - 0s 4ms/step - loss: 6.9359 - mae: 6.9359\n",
            "Epoch 38/100\n",
            "3/3 [==============================] - 0s 4ms/step - loss: 6.7895 - mae: 6.7895\n",
            "Epoch 39/100\n",
            "3/3 [==============================] - 0s 4ms/step - loss: 6.8446 - mae: 6.8446\n",
            "Epoch 40/100\n",
            "3/3 [==============================] - 0s 5ms/step - loss: 6.5562 - mae: 6.5562\n",
            "Epoch 41/100\n",
            "3/3 [==============================] - 0s 4ms/step - loss: 6.4727 - mae: 6.4727\n",
            "Epoch 42/100\n",
            "3/3 [==============================] - 0s 4ms/step - loss: 6.5899 - mae: 6.5899\n",
            "Epoch 43/100\n",
            "3/3 [==============================] - 0s 5ms/step - loss: 6.2895 - mae: 6.2895\n",
            "Epoch 44/100\n",
            "3/3 [==============================] - 0s 4ms/step - loss: 6.1079 - mae: 6.1079\n",
            "Epoch 45/100\n",
            "3/3 [==============================] - 0s 4ms/step - loss: 5.9439 - mae: 5.9439\n",
            "Epoch 46/100\n",
            "3/3 [==============================] - 0s 5ms/step - loss: 5.7665 - mae: 5.7665\n",
            "Epoch 47/100\n",
            "3/3 [==============================] - 0s 4ms/step - loss: 5.4776 - mae: 5.4776\n",
            "Epoch 48/100\n",
            "3/3 [==============================] - 0s 5ms/step - loss: 6.6808 - mae: 6.6808\n",
            "Epoch 49/100\n",
            "3/3 [==============================] - 0s 5ms/step - loss: 5.9751 - mae: 5.9751\n",
            "Epoch 50/100\n",
            "3/3 [==============================] - 0s 4ms/step - loss: 5.7773 - mae: 5.7773\n",
            "Epoch 51/100\n",
            "3/3 [==============================] - 0s 5ms/step - loss: 6.6680 - mae: 6.6680\n",
            "Epoch 52/100\n",
            "3/3 [==============================] - 0s 5ms/step - loss: 5.5812 - mae: 5.5812\n",
            "Epoch 53/100\n",
            "3/3 [==============================] - 0s 5ms/step - loss: 5.4313 - mae: 5.4313\n",
            "Epoch 54/100\n",
            "3/3 [==============================] - 0s 5ms/step - loss: 5.7158 - mae: 5.7158\n",
            "Epoch 55/100\n",
            "3/3 [==============================] - 0s 5ms/step - loss: 5.4179 - mae: 5.4179\n",
            "Epoch 56/100\n",
            "3/3 [==============================] - 0s 5ms/step - loss: 4.2129 - mae: 4.2129\n",
            "Epoch 57/100\n",
            "3/3 [==============================] - 0s 6ms/step - loss: 4.7314 - mae: 4.7314\n",
            "Epoch 58/100\n",
            "3/3 [==============================] - 0s 4ms/step - loss: 4.2404 - mae: 4.2404\n",
            "Epoch 59/100\n",
            "3/3 [==============================] - 0s 4ms/step - loss: 3.8676 - mae: 3.8676\n",
            "Epoch 60/100\n",
            "3/3 [==============================] - 0s 5ms/step - loss: 4.2349 - mae: 4.2349\n",
            "Epoch 61/100\n",
            "3/3 [==============================] - 0s 4ms/step - loss: 4.2952 - mae: 4.2952\n",
            "Epoch 62/100\n",
            "3/3 [==============================] - 0s 4ms/step - loss: 4.2676 - mae: 4.2676\n",
            "Epoch 63/100\n",
            "3/3 [==============================] - 0s 4ms/step - loss: 3.0639 - mae: 3.0639\n",
            "Epoch 64/100\n",
            "3/3 [==============================] - 0s 4ms/step - loss: 3.4813 - mae: 3.4813\n",
            "Epoch 65/100\n",
            "3/3 [==============================] - 0s 4ms/step - loss: 4.3904 - mae: 4.3904\n",
            "Epoch 66/100\n",
            "3/3 [==============================] - 0s 4ms/step - loss: 3.1373 - mae: 3.1373\n",
            "Epoch 67/100\n",
            "3/3 [==============================] - 0s 4ms/step - loss: 2.8847 - mae: 2.8847\n",
            "Epoch 68/100\n",
            "3/3 [==============================] - 0s 4ms/step - loss: 2.3445 - mae: 2.3445\n",
            "Epoch 69/100\n",
            "3/3 [==============================] - 0s 5ms/step - loss: 2.1917 - mae: 2.1917\n",
            "Epoch 70/100\n",
            "3/3 [==============================] - 0s 7ms/step - loss: 2.0157 - mae: 2.0157\n",
            "Epoch 71/100\n",
            "3/3 [==============================] - 0s 5ms/step - loss: 1.6568 - mae: 1.6568\n",
            "Epoch 72/100\n",
            "3/3 [==============================] - 0s 5ms/step - loss: 1.7755 - mae: 1.7755\n",
            "Epoch 73/100\n",
            "3/3 [==============================] - 0s 5ms/step - loss: 1.4290 - mae: 1.4290\n",
            "Epoch 74/100\n",
            "3/3 [==============================] - 0s 6ms/step - loss: 2.9096 - mae: 2.9096\n",
            "Epoch 75/100\n",
            "3/3 [==============================] - 0s 5ms/step - loss: 1.7043 - mae: 1.7043\n",
            "Epoch 76/100\n",
            "3/3 [==============================] - 0s 6ms/step - loss: 0.6745 - mae: 0.6745\n",
            "Epoch 77/100\n",
            "3/3 [==============================] - 0s 5ms/step - loss: 1.7569 - mae: 1.7569\n",
            "Epoch 78/100\n",
            "3/3 [==============================] - 0s 8ms/step - loss: 1.3732 - mae: 1.3732\n",
            "Epoch 79/100\n",
            "3/3 [==============================] - 0s 4ms/step - loss: 2.7869 - mae: 2.7869\n",
            "Epoch 80/100\n",
            "3/3 [==============================] - 0s 5ms/step - loss: 0.8082 - mae: 0.8082\n",
            "Epoch 81/100\n",
            "3/3 [==============================] - 0s 4ms/step - loss: 1.2244 - mae: 1.2244\n",
            "Epoch 82/100\n",
            "3/3 [==============================] - 0s 5ms/step - loss: 2.9403 - mae: 2.9403\n",
            "Epoch 83/100\n",
            "3/3 [==============================] - 0s 4ms/step - loss: 6.9388 - mae: 6.9388\n",
            "Epoch 84/100\n",
            "3/3 [==============================] - 0s 5ms/step - loss: 3.9356 - mae: 3.9356\n",
            "Epoch 85/100\n",
            "3/3 [==============================] - 0s 6ms/step - loss: 3.9478 - mae: 3.9478\n",
            "Epoch 86/100\n",
            "3/3 [==============================] - 0s 4ms/step - loss: 4.3893 - mae: 4.3893\n",
            "Epoch 87/100\n",
            "3/3 [==============================] - 0s 4ms/step - loss: 6.9186 - mae: 6.9186\n",
            "Epoch 88/100\n",
            "3/3 [==============================] - 0s 4ms/step - loss: 3.2208 - mae: 3.2208\n",
            "Epoch 89/100\n",
            "3/3 [==============================] - 0s 4ms/step - loss: 2.3577 - mae: 2.3577\n",
            "Epoch 90/100\n",
            "3/3 [==============================] - 0s 5ms/step - loss: 1.5100 - mae: 1.5100\n",
            "Epoch 91/100\n",
            "3/3 [==============================] - 0s 5ms/step - loss: 1.3646 - mae: 1.3646\n",
            "Epoch 92/100\n",
            "3/3 [==============================] - 0s 4ms/step - loss: 1.1013 - mae: 1.1013\n",
            "Epoch 93/100\n",
            "3/3 [==============================] - 0s 5ms/step - loss: 1.1543 - mae: 1.1543\n",
            "Epoch 94/100\n",
            "3/3 [==============================] - 0s 5ms/step - loss: 1.6711 - mae: 1.6711\n",
            "Epoch 95/100\n",
            "3/3 [==============================] - 0s 4ms/step - loss: 1.0017 - mae: 1.0017\n",
            "Epoch 96/100\n",
            "3/3 [==============================] - 0s 5ms/step - loss: 2.5347 - mae: 2.5347\n",
            "Epoch 97/100\n",
            "3/3 [==============================] - 0s 5ms/step - loss: 3.9531 - mae: 3.9531\n",
            "Epoch 98/100\n",
            "3/3 [==============================] - 0s 4ms/step - loss: 0.6501 - mae: 0.6501\n",
            "Epoch 99/100\n",
            "3/3 [==============================] - 0s 5ms/step - loss: 0.7076 - mae: 0.7076\n",
            "Epoch 100/100\n",
            "3/3 [==============================] - 0s 5ms/step - loss: 0.7033 - mae: 0.7033\n"
          ]
        },
        {
          "output_type": "execute_result",
          "data": {
            "text/plain": [
              "<keras.callbacks.History at 0x7fd7a4adf8b0>"
            ]
          },
          "metadata": {},
          "execution_count": 36
        }
      ]
    },
    {
      "cell_type": "markdown",
      "source": [
        "#time for predictions\n",
        "\n"
      ],
      "metadata": {
        "id": "jd4oyZL46XH6"
      }
    },
    {
      "cell_type": "code",
      "source": [
        "X,Y\n"
      ],
      "metadata": {
        "colab": {
          "base_uri": "https://localhost:8080/"
        },
        "id": "6bBYFUhf3ygS",
        "outputId": "27fd843a-f21d-4dab-ff01-eeeb552c2fdc"
      },
      "execution_count": 37,
      "outputs": [
        {
          "output_type": "execute_result",
          "data": {
            "text/plain": [
              "(<tf.Tensor: shape=(80,), dtype=int32, numpy=\n",
              " array([-200, -195, -190, -185, -180, -175, -170, -165, -160, -155, -150,\n",
              "        -145, -140, -135, -130, -125, -120, -115, -110, -105, -100,  -95,\n",
              "         -90,  -85,  -80,  -75,  -70,  -65,  -60,  -55,  -50,  -45,  -40,\n",
              "         -35,  -30,  -25,  -20,  -15,  -10,   -5,    0,    5,   10,   15,\n",
              "          20,   25,   30,   35,   40,   45,   50,   55,   60,   65,   70,\n",
              "          75,   80,   85,   90,   95,  100,  105,  110,  115,  120,  125,\n",
              "         130,  135,  140,  145,  150,  155,  160,  165,  170,  175,  180,\n",
              "         185,  190,  195], dtype=int32)>,\n",
              " <tf.Tensor: shape=(80,), dtype=int32, numpy=\n",
              " array([-190, -185, -180, -175, -170, -165, -160, -155, -150, -145, -140,\n",
              "        -135, -130, -125, -120, -115, -110, -105, -100,  -95,  -90,  -85,\n",
              "         -80,  -75,  -70,  -65,  -60,  -55,  -50,  -45,  -40,  -35,  -30,\n",
              "         -25,  -20,  -15,  -10,   -5,    0,    5,   10,   15,   20,   25,\n",
              "          30,   35,   40,   45,   50,   55,   60,   65,   70,   75,   80,\n",
              "          85,   90,   95,  100,  105,  110,  115,  120,  125,  130,  135,\n",
              "         140,  145,  150,  155,  160,  165,  170,  175,  180,  185,  190,\n",
              "         195,  200,  205], dtype=int32)>)"
            ]
          },
          "metadata": {},
          "execution_count": 37
        }
      ]
    },
    {
      "cell_type": "code",
      "source": [
        "model_1.predict([2]) #still bad prediction"
      ],
      "metadata": {
        "colab": {
          "base_uri": "https://localhost:8080/"
        },
        "id": "bskc4YpT6ltd",
        "outputId": "ff98f677-ed7a-4f36-d28a-80349c9c15d2"
      },
      "execution_count": 38,
      "outputs": [
        {
          "output_type": "stream",
          "name": "stdout",
          "text": [
            "1/1 [==============================] - 0s 71ms/step\n"
          ]
        },
        {
          "output_type": "execute_result",
          "data": {
            "text/plain": [
              "array([[12.020351]], dtype=float32)"
            ]
          },
          "metadata": {},
          "execution_count": 38
        }
      ]
    },
    {
      "cell_type": "code",
      "source": [
        "y_pred_1= model_1.predict(X)\n",
        "mse_1 = tf.metrics.mean_squared_error (y_true = Y,\n",
        "                                    y_pred = tf.squeeze(y_pred_1))\n",
        "mae_1 = tf.metrics.mean_absolute_error(y_true = Y,\n",
        "                                       y_pred = tf.squeeze(y_pred_1))"
      ],
      "metadata": {
        "colab": {
          "base_uri": "https://localhost:8080/"
        },
        "id": "OReBUTbHBRis",
        "outputId": "abc2b406-8f4c-43bd-e986-a34335b8bb93"
      },
      "execution_count": 39,
      "outputs": [
        {
          "output_type": "stream",
          "name": "stdout",
          "text": [
            "3/3 [==============================] - 0s 3ms/step\n"
          ]
        }
      ]
    },
    {
      "cell_type": "markdown",
      "source": [
        "#improving the model\n",
        "1. increase hidden layers or alter hidden neurons by increasing them\n",
        "2. use a different activation and optimizers in compiling step and change the learning rate\n",
        "3. change the epochs to a large number \n",
        "4. make your dataset large \n"
      ],
      "metadata": {
        "id": "HZARXM4lla16"
      }
    },
    {
      "cell_type": "code",
      "source": [
        "#make a bigger dataset\n",
        "X = tf.range(-200, 200, 5)"
      ],
      "metadata": {
        "id": "JXWYozHd-omA"
      },
      "execution_count": 40,
      "outputs": []
    },
    {
      "cell_type": "code",
      "source": [
        "Y= X+10\n",
        "len(X), len(Y)"
      ],
      "metadata": {
        "colab": {
          "base_uri": "https://localhost:8080/"
        },
        "id": "rnrscSjQrY6c",
        "outputId": "b1a1f8fe-c26b-4ab9-8c93-a7d26914d3f4"
      },
      "execution_count": 41,
      "outputs": [
        {
          "output_type": "execute_result",
          "data": {
            "text/plain": [
              "(80, 80)"
            ]
          },
          "metadata": {},
          "execution_count": 41
        }
      ]
    },
    {
      "cell_type": "code",
      "source": [
        "plt.scatter(X,Y)"
      ],
      "metadata": {
        "colab": {
          "base_uri": "https://localhost:8080/",
          "height": 447
        },
        "id": "TIEpnnjjrbPc",
        "outputId": "bcc145a6-e798-48be-a9a1-b9d562724a30"
      },
      "execution_count": 42,
      "outputs": [
        {
          "output_type": "execute_result",
          "data": {
            "text/plain": [
              "<matplotlib.collections.PathCollection at 0x7fd7a3366c10>"
            ]
          },
          "metadata": {},
          "execution_count": 42
        },
        {
          "output_type": "display_data",
          "data": {
            "text/plain": [
              "<Figure size 640x480 with 1 Axes>"
            ],
            "image/png": "[encoded data removed]"
          },
          "metadata": {}
        }
      ]
    },
    {
      "cell_type": "code",
      "source": [
        "X_train = X[:60]\n",
        "Y_train = Y[:60]\n",
        "\n",
        "X_test = X[60:]\n",
        "Y_test = Y[60:]"
      ],
      "metadata": {
        "id": "Famlj3zxrfrA"
      },
      "execution_count": 43,
      "outputs": []
    },
    {
      "cell_type": "code",
      "source": [
        "len(X_train), len(Y_train), len(X_test), len(Y_test)"
      ],
      "metadata": {
        "colab": {
          "base_uri": "https://localhost:8080/"
        },
        "id": "jS1JaBQisJ3P",
        "outputId": "6703f9dc-e62a-4b51-84f0-6bedc65c0b2a"
      },
      "execution_count": 44,
      "outputs": [
        {
          "output_type": "execute_result",
          "data": {
            "text/plain": [
              "(60, 60, 20, 20)"
            ]
          },
          "metadata": {},
          "execution_count": 44
        }
      ]
    },
    {
      "cell_type": "code",
      "source": [
        "plt.figure(figsize =(10,7))\n",
        "plt.scatter(X_train, Y_train, c = 'b', label = 'training data')\n",
        "plt.scatter(X_test, Y_test, c = 'g', label = 'testing data')\n",
        "plt.legend();"
      ],
      "metadata": {
        "colab": {
          "base_uri": "https://localhost:8080/",
          "height": 599
        },
        "id": "ZZQSkhpotsTU",
        "outputId": "0ea11954-ac94-4c90-a90a-8f1f445e846e"
      },
      "execution_count": 45,
      "outputs": [
        {
          "output_type": "display_data",
          "data": {
            "text/plain": [
              "<Figure size 1000x700 with 1 Axes>"
            ],
            "image/png": "[encoded data removed]"
          },
          "metadata": {}
        }
      ]
    },
    {
      "cell_type": "code",
      "source": [
        "tf.random.set_seed(42)\n",
        "model_2 = tf.keras.Sequential([\n",
        "    tf.keras.layers.Dense(100, activation = None),\n",
        "    tf.keras.layers.Dense(100, activation = None),\n",
        "    tf.keras.layers.Dense(1)\n",
        "])\n",
        "model_2.compile(loss=tf.keras.losses.mae,\n",
        "              optimizer= tf.keras.optimizers.Adam(learning_rate=0.001),\n",
        "              metrics = ['mae'])"
      ],
      "metadata": {
        "id": "gsxk1OwouZML"
      },
      "execution_count": 46,
      "outputs": []
    },
    {
      "cell_type": "code",
      "source": [
        "model_2.fit(tf.expand_dims(X_train, axis = -1), Y_train, epochs = 100)"
      ],
      "metadata": {
        "colab": {
          "base_uri": "https://localhost:8080/"
        },
        "id": "OeLwjZwLwbBD",
        "outputId": "77008deb-813c-4aa2-e54c-64cb20f8ca16"
      },
      "execution_count": 47,
      "outputs": [
        {
          "output_type": "stream",
          "name": "stdout",
          "text": [
            "Epoch 1/100\n",
            "2/2 [==============================] - 1s 20ms/step - loss: 122.3423 - mae: 122.3423\n",
            "Epoch 2/100\n",
            "2/2 [==============================] - 0s 9ms/step - loss: 93.6408 - mae: 93.6408\n",
            "Epoch 3/100\n",
            "2/2 [==============================] - 0s 15ms/step - loss: 67.4786 - mae: 67.4786\n",
            "Epoch 4/100\n",
            "2/2 [==============================] - 0s 15ms/step - loss: 40.5784 - mae: 40.5784\n",
            "Epoch 5/100\n",
            "2/2 [==============================] - 0s 8ms/step - loss: 13.4190 - mae: 13.4190\n",
            "Epoch 6/100\n",
            "2/2 [==============================] - 0s 8ms/step - loss: 18.5007 - mae: 18.5007\n",
            "Epoch 7/100\n",
            "2/2 [==============================] - 0s 7ms/step - loss: 30.4920 - mae: 30.4920\n",
            "Epoch 8/100\n",
            "2/2 [==============================] - 0s 15ms/step - loss: 32.6637 - mae: 32.6637\n",
            "Epoch 9/100\n",
            "2/2 [==============================] - 0s 12ms/step - loss: 27.5345 - mae: 27.5345\n",
            "Epoch 10/100\n",
            "2/2 [==============================] - 0s 8ms/step - loss: 18.5139 - mae: 18.5139\n",
            "Epoch 11/100\n",
            "2/2 [==============================] - 0s 11ms/step - loss: 10.4941 - mae: 10.4941\n",
            "Epoch 12/100\n",
            "2/2 [==============================] - 0s 13ms/step - loss: 12.3708 - mae: 12.3708\n",
            "Epoch 13/100\n",
            "2/2 [==============================] - 0s 17ms/step - loss: 17.1736 - mae: 17.1736\n",
            "Epoch 14/100\n",
            "2/2 [==============================] - 0s 9ms/step - loss: 16.4863 - mae: 16.4863\n",
            "Epoch 15/100\n",
            "2/2 [==============================] - 0s 9ms/step - loss: 11.3152 - mae: 11.3152\n",
            "Epoch 16/100\n",
            "2/2 [==============================] - 0s 10ms/step - loss: 7.8282 - mae: 7.8282\n",
            "Epoch 17/100\n",
            "2/2 [==============================] - 0s 11ms/step - loss: 11.2330 - mae: 11.2330\n",
            "Epoch 18/100\n",
            "2/2 [==============================] - 0s 11ms/step - loss: 12.3650 - mae: 12.3650\n",
            "Epoch 19/100\n",
            "2/2 [==============================] - 0s 12ms/step - loss: 10.9731 - mae: 10.9731\n",
            "Epoch 20/100\n",
            "2/2 [==============================] - 0s 9ms/step - loss: 7.9886 - mae: 7.9886\n",
            "Epoch 21/100\n",
            "2/2 [==============================] - 0s 10ms/step - loss: 8.3952 - mae: 8.3952\n",
            "Epoch 22/100\n",
            "2/2 [==============================] - 0s 14ms/step - loss: 8.9432 - mae: 8.9432\n",
            "Epoch 23/100\n",
            "2/2 [==============================] - 0s 11ms/step - loss: 7.0422 - mae: 7.0422\n",
            "Epoch 24/100\n",
            "2/2 [==============================] - 0s 13ms/step - loss: 7.8780 - mae: 7.8780\n",
            "Epoch 25/100\n",
            "2/2 [==============================] - 0s 13ms/step - loss: 7.8297 - mae: 7.8297\n",
            "Epoch 26/100\n",
            "2/2 [==============================] - 0s 11ms/step - loss: 6.9153 - mae: 6.9153\n",
            "Epoch 27/100\n",
            "2/2 [==============================] - 0s 13ms/step - loss: 7.4350 - mae: 7.4350\n",
            "Epoch 28/100\n",
            "2/2 [==============================] - 0s 10ms/step - loss: 6.6549 - mae: 6.6549\n",
            "Epoch 29/100\n",
            "2/2 [==============================] - 0s 6ms/step - loss: 7.0726 - mae: 7.0726\n",
            "Epoch 30/100\n",
            "2/2 [==============================] - 0s 10ms/step - loss: 6.5774 - mae: 6.5774\n",
            "Epoch 31/100\n",
            "2/2 [==============================] - 0s 10ms/step - loss: 7.2880 - mae: 7.2880\n",
            "Epoch 32/100\n",
            "2/2 [==============================] - 0s 8ms/step - loss: 6.7860 - mae: 6.7860\n",
            "Epoch 33/100\n",
            "2/2 [==============================] - 0s 9ms/step - loss: 6.7628 - mae: 6.7628\n",
            "Epoch 34/100\n",
            "2/2 [==============================] - 0s 11ms/step - loss: 6.4664 - mae: 6.4664\n",
            "Epoch 35/100\n",
            "2/2 [==============================] - 0s 14ms/step - loss: 6.4464 - mae: 6.4464\n",
            "Epoch 36/100\n",
            "2/2 [==============================] - 0s 13ms/step - loss: 6.3971 - mae: 6.3971\n",
            "Epoch 37/100\n",
            "2/2 [==============================] - 0s 14ms/step - loss: 6.1987 - mae: 6.1987\n",
            "Epoch 38/100\n",
            "2/2 [==============================] - 0s 11ms/step - loss: 6.3086 - mae: 6.3086\n",
            "Epoch 39/100\n",
            "2/2 [==============================] - 0s 7ms/step - loss: 6.1843 - mae: 6.1843\n",
            "Epoch 40/100\n",
            "2/2 [==============================] - 0s 8ms/step - loss: 6.2318 - mae: 6.2318\n",
            "Epoch 41/100\n",
            "2/2 [==============================] - 0s 6ms/step - loss: 6.1953 - mae: 6.1953\n",
            "Epoch 42/100\n",
            "2/2 [==============================] - 0s 7ms/step - loss: 6.1709 - mae: 6.1709\n",
            "Epoch 43/100\n",
            "2/2 [==============================] - 0s 7ms/step - loss: 6.0193 - mae: 6.0193\n",
            "Epoch 44/100\n",
            "2/2 [==============================] - 0s 7ms/step - loss: 6.0410 - mae: 6.0410\n",
            "Epoch 45/100\n",
            "2/2 [==============================] - 0s 8ms/step - loss: 5.9201 - mae: 5.9201\n",
            "Epoch 46/100\n",
            "2/2 [==============================] - 0s 7ms/step - loss: 5.9417 - mae: 5.9417\n",
            "Epoch 47/100\n",
            "2/2 [==============================] - 0s 7ms/step - loss: 5.8426 - mae: 5.8426\n",
            "Epoch 48/100\n",
            "2/2 [==============================] - 0s 7ms/step - loss: 5.7995 - mae: 5.7995\n",
            "Epoch 49/100\n",
            "2/2 [==============================] - 0s 7ms/step - loss: 5.8393 - mae: 5.8393\n",
            "Epoch 50/100\n",
            "2/2 [==============================] - 0s 7ms/step - loss: 5.7225 - mae: 5.7225\n",
            "Epoch 51/100\n",
            "2/2 [==============================] - 0s 6ms/step - loss: 5.7456 - mae: 5.7456\n",
            "Epoch 52/100\n",
            "2/2 [==============================] - 0s 7ms/step - loss: 5.9369 - mae: 5.9369\n",
            "Epoch 53/100\n",
            "2/2 [==============================] - 0s 7ms/step - loss: 5.5504 - mae: 5.5504\n",
            "Epoch 54/100\n",
            "2/2 [==============================] - 0s 7ms/step - loss: 5.6668 - mae: 5.6668\n",
            "Epoch 55/100\n",
            "2/2 [==============================] - 0s 7ms/step - loss: 5.6328 - mae: 5.6328\n",
            "Epoch 56/100\n",
            "2/2 [==============================] - 0s 7ms/step - loss: 5.6695 - mae: 5.6695\n",
            "Epoch 57/100\n",
            "2/2 [==============================] - 0s 6ms/step - loss: 5.4919 - mae: 5.4919\n",
            "Epoch 58/100\n",
            "2/2 [==============================] - 0s 7ms/step - loss: 5.4671 - mae: 5.4671\n",
            "Epoch 59/100\n",
            "2/2 [==============================] - 0s 8ms/step - loss: 5.4438 - mae: 5.4438\n",
            "Epoch 60/100\n",
            "2/2 [==============================] - 0s 6ms/step - loss: 5.4198 - mae: 5.4198\n",
            "Epoch 61/100\n",
            "2/2 [==============================] - 0s 7ms/step - loss: 5.2163 - mae: 5.2163\n",
            "Epoch 62/100\n",
            "2/2 [==============================] - 0s 7ms/step - loss: 5.3288 - mae: 5.3288\n",
            "Epoch 63/100\n",
            "2/2 [==============================] - 0s 8ms/step - loss: 5.2129 - mae: 5.2129\n",
            "Epoch 64/100\n",
            "2/2 [==============================] - 0s 7ms/step - loss: 5.1431 - mae: 5.1431\n",
            "Epoch 65/100\n",
            "2/2 [==============================] - 0s 6ms/step - loss: 5.1561 - mae: 5.1561\n",
            "Epoch 66/100\n",
            "2/2 [==============================] - 0s 12ms/step - loss: 5.0891 - mae: 5.0891\n",
            "Epoch 67/100\n",
            "2/2 [==============================] - 0s 10ms/step - loss: 5.0621 - mae: 5.0621\n",
            "Epoch 68/100\n",
            "2/2 [==============================] - 0s 10ms/step - loss: 4.9294 - mae: 4.9294\n",
            "Epoch 69/100\n",
            "2/2 [==============================] - 0s 7ms/step - loss: 4.9771 - mae: 4.9771\n",
            "Epoch 70/100\n",
            "2/2 [==============================] - 0s 8ms/step - loss: 5.4825 - mae: 5.4825\n",
            "Epoch 71/100\n",
            "2/2 [==============================] - 0s 7ms/step - loss: 4.9289 - mae: 4.9289\n",
            "Epoch 72/100\n",
            "2/2 [==============================] - 0s 17ms/step - loss: 5.5265 - mae: 5.5265\n",
            "Epoch 73/100\n",
            "2/2 [==============================] - 0s 10ms/step - loss: 4.7900 - mae: 4.7900\n",
            "Epoch 74/100\n",
            "2/2 [==============================] - 0s 7ms/step - loss: 4.9811 - mae: 4.9811\n",
            "Epoch 75/100\n",
            "2/2 [==============================] - 0s 8ms/step - loss: 4.7630 - mae: 4.7630\n",
            "Epoch 76/100\n",
            "2/2 [==============================] - 0s 8ms/step - loss: 4.6133 - mae: 4.6133\n",
            "Epoch 77/100\n",
            "2/2 [==============================] - 0s 8ms/step - loss: 4.4527 - mae: 4.4527\n",
            "Epoch 78/100\n",
            "2/2 [==============================] - 0s 6ms/step - loss: 4.4130 - mae: 4.4130\n",
            "Epoch 79/100\n",
            "2/2 [==============================] - 0s 7ms/step - loss: 4.5247 - mae: 4.5247\n",
            "Epoch 80/100\n",
            "2/2 [==============================] - 0s 7ms/step - loss: 4.4290 - mae: 4.4290\n",
            "Epoch 81/100\n",
            "2/2 [==============================] - 0s 7ms/step - loss: 4.5188 - mae: 4.5188\n",
            "Epoch 82/100\n",
            "2/2 [==============================] - 0s 7ms/step - loss: 4.4149 - mae: 4.4149\n",
            "Epoch 83/100\n",
            "2/2 [==============================] - 0s 6ms/step - loss: 4.1455 - mae: 4.1455\n",
            "Epoch 84/100\n",
            "2/2 [==============================] - 0s 6ms/step - loss: 4.0018 - mae: 4.0018\n",
            "Epoch 85/100\n",
            "2/2 [==============================] - 0s 8ms/step - loss: 3.9749 - mae: 3.9749\n",
            "Epoch 86/100\n",
            "2/2 [==============================] - 0s 9ms/step - loss: 3.9922 - mae: 3.9922\n",
            "Epoch 87/100\n",
            "2/2 [==============================] - 0s 7ms/step - loss: 3.8403 - mae: 3.8403\n",
            "Epoch 88/100\n",
            "2/2 [==============================] - 0s 6ms/step - loss: 3.9425 - mae: 3.9425\n",
            "Epoch 89/100\n",
            "2/2 [==============================] - 0s 8ms/step - loss: 4.2465 - mae: 4.2465\n",
            "Epoch 90/100\n",
            "2/2 [==============================] - 0s 9ms/step - loss: 3.7239 - mae: 3.7239\n",
            "Epoch 91/100\n",
            "2/2 [==============================] - 0s 8ms/step - loss: 3.4791 - mae: 3.4791\n",
            "Epoch 92/100\n",
            "2/2 [==============================] - 0s 8ms/step - loss: 3.6448 - mae: 3.6448\n",
            "Epoch 93/100\n",
            "2/2 [==============================] - 0s 8ms/step - loss: 3.5419 - mae: 3.5419\n",
            "Epoch 94/100\n",
            "2/2 [==============================] - 0s 7ms/step - loss: 3.6315 - mae: 3.6315\n",
            "Epoch 95/100\n",
            "2/2 [==============================] - 0s 8ms/step - loss: 3.4357 - mae: 3.4357\n",
            "Epoch 96/100\n",
            "2/2 [==============================] - 0s 7ms/step - loss: 3.3574 - mae: 3.3574\n",
            "Epoch 97/100\n",
            "2/2 [==============================] - 0s 5ms/step - loss: 3.0320 - mae: 3.0320\n",
            "Epoch 98/100\n",
            "2/2 [==============================] - 0s 7ms/step - loss: 3.0268 - mae: 3.0268\n",
            "Epoch 99/100\n",
            "2/2 [==============================] - 0s 7ms/step - loss: 3.3591 - mae: 3.3591\n",
            "Epoch 100/100\n",
            "2/2 [==============================] - 0s 8ms/step - loss: 3.5726 - mae: 3.5726\n"
          ]
        },
        {
          "output_type": "execute_result",
          "data": {
            "text/plain": [
              "<keras.callbacks.History at 0x7fd7a33878e0>"
            ]
          },
          "metadata": {},
          "execution_count": 47
        }
      ]
    },
    {
      "cell_type": "code",
      "source": [
        "y_pred= model_2.predict(X_test)\n",
        "y_pred.shape"
      ],
      "metadata": {
        "colab": {
          "base_uri": "https://localhost:8080/"
        },
        "id": "PLkd-0YXwkuM",
        "outputId": "20917775-84d5-421b-e01c-57ba720b54fb"
      },
      "execution_count": 48,
      "outputs": [
        {
          "output_type": "stream",
          "name": "stderr",
          "text": [
            "WARNING:tensorflow:5 out of the last 11 calls to <function Model.make_predict_function.<locals>.predict_function at 0x7fd7a342c5e0> triggered tf.function retracing. Tracing is expensive and the excessive number of tracings could be due to (1) creating @tf.function repeatedly in a loop, (2) passing tensors with different shapes, (3) passing Python objects instead of tensors. For (1), please define your @tf.function outside of the loop. For (2), @tf.function has reduce_retracing=True option that can avoid unnecessary retracing. For (3), please refer to https://www.tensorflow.org/guide/function#controlling_retracing and https://www.tensorflow.org/api_docs/python/tf/function for  more details.\n"
          ]
        },
        {
          "output_type": "stream",
          "name": "stdout",
          "text": [
            "1/1 [==============================] - 0s 54ms/step\n"
          ]
        },
        {
          "output_type": "execute_result",
          "data": {
            "text/plain": [
              "(20, 1)"
            ]
          },
          "metadata": {},
          "execution_count": 48
        }
      ]
    },
    {
      "cell_type": "markdown",
      "source": [
        "#plot function:\n"
      ],
      "metadata": {
        "id": "zH422kle5T5v"
      }
    },
    {
      "cell_type": "code",
      "source": [
        "def plot_predict(train_data = X_train, \n",
        "                 train_labels = Y_train,\n",
        "                 test_data = X_test,\n",
        "                 test_labels=Y_test,\n",
        "                 predictions= y_pred):\n",
        "  plt.figure(figsize=(10,7))\n",
        "  plt.scatter(train_data, train_labels, c = 'b', label= 'train_data')\n",
        "  plt.scatter(test_data, test_labels, c='g', label= 'testing data')\n",
        "  plt.scatter(test_data, predictions, c = 'r', label = 'predictions')\n",
        "  plt.legend();"
      ],
      "metadata": {
        "id": "Z1F2k0qXx6zu"
      },
      "execution_count": 49,
      "outputs": []
    },
    {
      "cell_type": "code",
      "source": [
        "plot_predict()"
      ],
      "metadata": {
        "colab": {
          "base_uri": "https://localhost:8080/",
          "height": 599
        },
        "id": "PhnmYNIs6iIA",
        "outputId": "3e168845-7c4f-4176-8aeb-703e958d1ebd"
      },
      "execution_count": 50,
      "outputs": [
        {
          "output_type": "display_data",
          "data": {
            "text/plain": [
              "<Figure size 1000x700 with 1 Axes>"
            ],
            "image/png": "[encoded data removed]"
          },
          "metadata": {}
        }
      ]
    },
    {
      "cell_type": "markdown",
      "source": [
        "#evaluating model:\n",
        "1. MAE: mean-absolute error, it tells us, how far off are our model's predictions\n",
        "2. MSE: mean-squared-error, it tells us, how far off are our model's predictions after squaring the averages "
      ],
      "metadata": {
        "id": "HsIdWgFT7oPq"
      }
    },
    {
      "cell_type": "code",
      "source": [
        "model_2.evaluate(X_test, Y_test)"
      ],
      "metadata": {
        "id": "cx6OKt_T7Cig",
        "colab": {
          "base_uri": "https://localhost:8080/"
        },
        "outputId": "29961e6c-ff8d-4def-e3f6-8da454ec6e8c"
      },
      "execution_count": 51,
      "outputs": [
        {
          "output_type": "stream",
          "name": "stdout",
          "text": [
            "1/1 [==============================] - 0s 105ms/step - loss: 6.3202 - mae: 6.3202\n"
          ]
        },
        {
          "output_type": "execute_result",
          "data": {
            "text/plain": [
              "[6.320178985595703, 6.320178985595703]"
            ]
          },
          "metadata": {},
          "execution_count": 51
        }
      ]
    },
    {
      "cell_type": "code",
      "source": [
        "#calculate the mean-absolute-error\n",
        "#good for any regression problem\n",
        "mae_2 = tf.metrics.mean_absolute_error(y_true = Y_test,\n",
        "                                     y_pred = tf.squeeze(y_pred))\n",
        "mae_2"
      ],
      "metadata": {
        "colab": {
          "base_uri": "https://localhost:8080/"
        },
        "id": "YJ9_W-mg8U_l",
        "outputId": "81dd1799-ba9a-4258-8e18-8e387a11bd12"
      },
      "execution_count": 52,
      "outputs": [
        {
          "output_type": "execute_result",
          "data": {
            "text/plain": [
              "<tf.Tensor: shape=(), dtype=float32, numpy=6.3201747>"
            ]
          },
          "metadata": {},
          "execution_count": 52
        }
      ]
    },
    {
      "cell_type": "code",
      "source": [
        "#calculate the mean-square-error\n",
        "#when larger errors are more significant than smaller errors\n",
        "mse_2 = tf.metrics.mean_squared_error (y_true = Y_test,\n",
        "                                    y_pred = tf.squeeze(y_pred))\n",
        "mse_2"
      ],
      "metadata": {
        "colab": {
          "base_uri": "https://localhost:8080/"
        },
        "id": "aTgOBwIr98Wo",
        "outputId": "1970e1a6-6dcf-4c9e-c181-cf4221d6e626"
      },
      "execution_count": 53,
      "outputs": [
        {
          "output_type": "execute_result",
          "data": {
            "text/plain": [
              "<tf.Tensor: shape=(), dtype=float32, numpy=40.18221>"
            ]
          },
          "metadata": {},
          "execution_count": 53
        }
      ]
    },
    {
      "cell_type": "code",
      "source": [],
      "metadata": {
        "id": "cXuxHVPXAx9Z"
      },
      "execution_count": 53,
      "outputs": []
    },
    {
      "cell_type": "code",
      "source": [
        "import pandas as pd\n",
        "model_results = [[\"model-1\", mae_1.numpy(), mse_1.numpy()],\n",
        "                 [\"model-2\", mae_2.numpy(), mse_2.numpy()]]\n",
        "all_results = pd.DataFrame(model_results, columns =['model-1', 'mae', 'mse'])\n",
        "all_results"
      ],
      "metadata": {
        "colab": {
          "base_uri": "https://localhost:8080/",
          "height": 112
        },
        "id": "ZWXdIBFw-Q-Y",
        "outputId": "8daa186c-6c4a-4eb8-ffa1-c1e26bd64f98"
      },
      "execution_count": 54,
      "outputs": [
        {
          "output_type": "execute_result",
          "data": {
            "text/plain": [
              "   model-1       mae        mse\n",
              "0  model-1  0.686887   0.629099\n",
              "1  model-2  6.320175  40.182209"
            ],
            "text/html": [
              "\n",
              "  <div id=\"df-2d99f12a-3071-4db1-b8f4-e8862a34355a\">\n",
              "    <div class=\"colab-df-container\">\n",
              "      <div>\n",
              "<style scoped>\n",
              "    .dataframe tbody tr th:only-of-type {\n",
              "        vertical-align: middle;\n",
              "    }\n",
              "\n",
              "    .dataframe tbody tr th {\n",
              "        vertical-align: top;\n",
              "    }\n",
              "\n",
              "    .dataframe thead th {\n",
              "        text-align: right;\n",
              "    }\n",
              "</style>\n",
              "<table border=\"1\" class=\"dataframe\">\n",
              "  <thead>\n",
              "    <tr style=\"text-align: right;\">\n",
              "      <th></th>\n",
              "      <th>model-1</th>\n",
              "      <th>mae</th>\n",
              "      <th>mse</th>\n",
              "    </tr>\n",
              "  </thead>\n",
              "  <tbody>\n",
              "    <tr>\n",
              "      <th>0</th>\n",
              "      <td>model-1</td>\n",
              "      <td>0.686887</td>\n",
              "      <td>0.629099</td>\n",
              "    </tr>\n",
              "    <tr>\n",
              "      <th>1</th>\n",
              "      <td>model-2</td>\n",
              "      <td>6.320175</td>\n",
              "      <td>40.182209</td>\n",
              "    </tr>\n",
              "  </tbody>\n",
              "</table>\n",
              "</div>\n",
              "      <button class=\"colab-df-convert\" onclick=\"convertToInteractive('df-2d99f12a-3071-4db1-b8f4-e8862a34355a')\"\n",
              "              title=\"Convert this dataframe to an interactive table.\"\n",
              "              style=\"display:none;\">\n",
              "        \n",
              "  <svg xmlns=\"http://www.w3.org/2000/svg\" height=\"24px\"viewBox=\"0 0 24 24\"\n",
              "       width=\"24px\">\n",
              "    <path d=\"M0 0h24v24H0V0z\" fill=\"none\"/>\n",
              "    <path d=\"M18.56 5.44l.94 2.06.94-2.06 2.06-.94-2.06-.94-.94-2.06-.94 2.06-2.06.94zm-11 1L8.5 8.5l.94-2.06 2.06-.94-2.06-.94L8.5 2.5l-.94 2.06-2.06.94zm10 10l.94 2.06.94-2.06 2.06-.94-2.06-.94-.94-2.06-.94 2.06-2.06.94z\"/><path d=\"M17.41 7.96l-1.37-1.37c-.4-.4-.92-.59-1.43-.59-.52 0-1.04.2-1.43.59L10.3 9.45l-7.72 7.72c-.78.78-.78 2.05 0 2.83L4 21.41c.39.39.9.59 1.41.59.51 0 1.02-.2 1.41-.59l7.78-7.78 2.81-2.81c.8-.78.8-2.07 0-2.86zM5.41 20L4 18.59l7.72-7.72 1.47 1.35L5.41 20z\"/>\n",
              "  </svg>\n",
              "      </button>\n",
              "      \n",
              "  <style>\n",
              "    .colab-df-container {\n",
              "      display:flex;\n",
              "      flex-wrap:wrap;\n",
              "      gap: 12px;\n",
              "    }\n",
              "\n",
              "    .colab-df-convert {\n",
              "      background-color: #E8F0FE;\n",
              "      border: none;\n",
              "      border-radius: 50%;\n",
              "      cursor: pointer;\n",
              "      display: none;\n",
              "      fill: #1967D2;\n",
              "      height: 32px;\n",
              "      padding: 0 0 0 0;\n",
              "      width: 32px;\n",
              "    }\n",
              "\n",
              "    .colab-df-convert:hover {\n",
              "      background-color: #E2EBFA;\n",
              "      box-shadow: 0px 1px 2px rgba(60, 64, 67, 0.3), 0px 1px 3px 1px rgba(60, 64, 67, 0.15);\n",
              "      fill: #174EA6;\n",
              "    }\n",
              "\n",
              "    [theme=dark] .colab-df-convert {\n",
              "      background-color: #3B4455;\n",
              "      fill: #D2E3FC;\n",
              "    }\n",
              "\n",
              "    [theme=dark] .colab-df-convert:hover {\n",
              "      background-color: #434B5C;\n",
              "      box-shadow: 0px 1px 3px 1px rgba(0, 0, 0, 0.15);\n",
              "      filter: drop-shadow(0px 1px 2px rgba(0, 0, 0, 0.3));\n",
              "      fill: #FFFFFF;\n",
              "    }\n",
              "  </style>\n",
              "\n",
              "      <script>\n",
              "        const buttonEl =\n",
              "          document.querySelector('#df-2d99f12a-3071-4db1-b8f4-e8862a34355a button.colab-df-convert');\n",
              "        buttonEl.style.display =\n",
              "          google.colab.kernel.accessAllowed ? 'block' : 'none';\n",
              "\n",
              "        async function convertToInteractive(key) {\n",
              "          const element = document.querySelector('#df-2d99f12a-3071-4db1-b8f4-e8862a34355a');\n",
              "          const dataTable =\n",
              "            await google.colab.kernel.invokeFunction('convertToInteractive',\n",
              "                                                     [key], {});\n",
              "          if (!dataTable) return;\n",
              "\n",
              "          const docLinkHtml = 'Like what you see? Visit the ' +\n",
              "            '<a target=\"_blank\" href=https://colab.research.google.com/notebooks/data_table.ipynb>data table notebook</a>'\n",
              "            + ' to learn more about interactive tables.';\n",
              "          element.innerHTML = '';\n",
              "          dataTable['output_type'] = 'display_data';\n",
              "          await google.colab.output.renderOutput(dataTable, element);\n",
              "          const docLink = document.createElement('div');\n",
              "          docLink.innerHTML = docLinkHtml;\n",
              "          element.appendChild(docLink);\n",
              "        }\n",
              "      </script>\n",
              "    </div>\n",
              "  </div>\n",
              "  "
            ]
          },
          "metadata": {},
          "execution_count": 54
        }
      ]
    },
    {
      "cell_type": "markdown",
      "source": [
        "##we can see that model_1 is doing better than model_2"
      ],
      "metadata": {
        "id": "zmdV3PioEyur"
      }
    },
    {
      "cell_type": "markdown",
      "source": [
        "##saving a model\n",
        "1. The SavedModel format\n",
        "2. The HDF5 format"
      ],
      "metadata": {
        "id": "Fsjp_Po6DVEJ"
      }
    },
    {
      "cell_type": "code",
      "source": [
        "#using the savedmodel format\n",
        "model_1.save(\"best_model_savedmodelformat\")"
      ],
      "metadata": {
        "colab": {
          "base_uri": "https://localhost:8080/"
        },
        "id": "KHA-IBo4Ame6",
        "outputId": "20ab64f4-bf30-45b7-a9ba-f66b562e1dbc"
      },
      "execution_count": 55,
      "outputs": [
        {
          "output_type": "stream",
          "name": "stderr",
          "text": [
            "WARNING:absl:Found untraced functions such as _update_step_xla while saving (showing 1 of 1). These functions will not be directly callable after loading.\n"
          ]
        }
      ]
    },
    {
      "cell_type": "code",
      "source": [
        "#using the hdf5 format\n",
        "model_1.save(\"best_model_HDF5_format.h5\")"
      ],
      "metadata": {
        "id": "uwZfMnzsFB5j"
      },
      "execution_count": 56,
      "outputs": []
    },
    {
      "cell_type": "markdown",
      "source": [
        "##load the saved model"
      ],
      "metadata": {
        "id": "D8qXsGbmF7Ui"
      }
    },
    {
      "cell_type": "code",
      "source": [
        "#load in the savedmodel format\n",
        "loaded_SavedModel_format = tf.keras.models.load_model(\"/content/best_model_savedmodelformat\")\n",
        "loaded_SavedModel_format.summary()"
      ],
      "metadata": {
        "colab": {
          "base_uri": "https://localhost:8080/"
        },
        "id": "7qGsaojTFPK4",
        "outputId": "c896af0c-066a-441f-bd72-0c5e478177d1"
      },
      "execution_count": 57,
      "outputs": [
        {
          "output_type": "stream",
          "name": "stdout",
          "text": [
            "Model: \"sequential_2\"\n",
            "_________________________________________________________________\n",
            " Layer (type)                Output Shape              Param #   \n",
            "=================================================================\n",
            " dense_6 (Dense)             (None, 100)               200       \n",
            "                                                                 \n",
            " dense_7 (Dense)             (None, 100)               10100     \n",
            "                                                                 \n",
            " dense_8 (Dense)             (None, 1)                 101       \n",
            "                                                                 \n",
            "=================================================================\n",
            "Total params: 10,401\n",
            "Trainable params: 10,401\n",
            "Non-trainable params: 0\n",
            "_________________________________________________________________\n"
          ]
        }
      ]
    },
    {
      "cell_type": "code",
      "source": [
        "#checking to see if saved model and our \"model_1\" is giving the same results or not.\n",
        "model_1_preds = model_1.predict(X)"
      ],
      "metadata": {
        "colab": {
          "base_uri": "https://localhost:8080/"
        },
        "id": "9wn0AW6IGaNB",
        "outputId": "b230aeb8-64bd-42c7-ccd1-fb467620c24f"
      },
      "execution_count": 58,
      "outputs": [
        {
          "output_type": "stream",
          "name": "stdout",
          "text": [
            "3/3 [==============================] - 0s 3ms/step\n"
          ]
        }
      ]
    },
    {
      "cell_type": "code",
      "source": [
        "loaded_SavedModel_format_preds = loaded_SavedModel_format.predict(X)"
      ],
      "metadata": {
        "colab": {
          "base_uri": "https://localhost:8080/"
        },
        "id": "SrJALqDlHEX2",
        "outputId": "65ed5755-978a-4229-b779-6416e955a746"
      },
      "execution_count": 60,
      "outputs": [
        {
          "output_type": "stream",
          "name": "stderr",
          "text": [
            "WARNING:tensorflow:5 out of the last 14 calls to <function Model.make_predict_function.<locals>.predict_function at 0x7fd7b52ba3a0> triggered tf.function retracing. Tracing is expensive and the excessive number of tracings could be due to (1) creating @tf.function repeatedly in a loop, (2) passing tensors with different shapes, (3) passing Python objects instead of tensors. For (1), please define your @tf.function outside of the loop. For (2), @tf.function has reduce_retracing=True option that can avoid unnecessary retracing. For (3), please refer to https://www.tensorflow.org/guide/function#controlling_retracing and https://www.tensorflow.org/api_docs/python/tf/function for  more details.\n"
          ]
        },
        {
          "output_type": "stream",
          "name": "stdout",
          "text": [
            "3/3 [==============================] - 0s 3ms/step\n"
          ]
        }
      ]
    },
    {
      "cell_type": "code",
      "source": [
        "model_1_preds == loaded_SavedModel_format_preds # tells us that all this is equal "
      ],
      "metadata": {
        "colab": {
          "base_uri": "https://localhost:8080/"
        },
        "id": "my3Za4Y_HNWB",
        "outputId": "905e3566-3e39-44fa-a54c-77e9b01338a9"
      },
      "execution_count": 62,
      "outputs": [
        {
          "output_type": "execute_result",
          "data": {
            "text/plain": [
              "array([[ True],\n",
              "       [ True],\n",
              "       [ True],\n",
              "       [ True],\n",
              "       [ True],\n",
              "       [ True],\n",
              "       [ True],\n",
              "       [ True],\n",
              "       [ True],\n",
              "       [ True],\n",
              "       [ True],\n",
              "       [ True],\n",
              "       [ True],\n",
              "       [ True],\n",
              "       [ True],\n",
              "       [ True],\n",
              "       [ True],\n",
              "       [ True],\n",
              "       [ True],\n",
              "       [ True],\n",
              "       [ True],\n",
              "       [ True],\n",
              "       [ True],\n",
              "       [ True],\n",
              "       [ True],\n",
              "       [ True],\n",
              "       [ True],\n",
              "       [ True],\n",
              "       [ True],\n",
              "       [ True],\n",
              "       [ True],\n",
              "       [ True],\n",
              "       [ True],\n",
              "       [ True],\n",
              "       [ True],\n",
              "       [ True],\n",
              "       [ True],\n",
              "       [ True],\n",
              "       [ True],\n",
              "       [ True],\n",
              "       [ True],\n",
              "       [ True],\n",
              "       [ True],\n",
              "       [ True],\n",
              "       [ True],\n",
              "       [ True],\n",
              "       [ True],\n",
              "       [ True],\n",
              "       [ True],\n",
              "       [ True],\n",
              "       [ True],\n",
              "       [ True],\n",
              "       [ True],\n",
              "       [ True],\n",
              "       [ True],\n",
              "       [ True],\n",
              "       [ True],\n",
              "       [ True],\n",
              "       [ True],\n",
              "       [ True],\n",
              "       [ True],\n",
              "       [ True],\n",
              "       [ True],\n",
              "       [ True],\n",
              "       [ True],\n",
              "       [ True],\n",
              "       [ True],\n",
              "       [ True],\n",
              "       [ True],\n",
              "       [ True],\n",
              "       [ True],\n",
              "       [ True],\n",
              "       [ True],\n",
              "       [ True],\n",
              "       [ True],\n",
              "       [ True],\n",
              "       [ True],\n",
              "       [ True],\n",
              "       [ True],\n",
              "       [ True]])"
            ]
          },
          "metadata": {},
          "execution_count": 62
        }
      ]
    },
    {
      "cell_type": "code",
      "source": [
        "loaded_h5_model = tf.keras.models.load_model(\"/content/best_model_HDF5_format.h5\")\n",
        "loaded_h5_model.summary()"
      ],
      "metadata": {
        "colab": {
          "base_uri": "https://localhost:8080/"
        },
        "id": "HMMAbrlkHt0c",
        "outputId": "4281ce92-38bd-422a-bf7f-d83df33d78e0"
      },
      "execution_count": 63,
      "outputs": [
        {
          "output_type": "stream",
          "name": "stdout",
          "text": [
            "Model: \"sequential_2\"\n",
            "_________________________________________________________________\n",
            " Layer (type)                Output Shape              Param #   \n",
            "=================================================================\n",
            " dense_6 (Dense)             (None, 100)               200       \n",
            "                                                                 \n",
            " dense_7 (Dense)             (None, 100)               10100     \n",
            "                                                                 \n",
            " dense_8 (Dense)             (None, 1)                 101       \n",
            "                                                                 \n",
            "=================================================================\n",
            "Total params: 10,401\n",
            "Trainable params: 10,401\n",
            "Non-trainable params: 0\n",
            "_________________________________________________________________\n"
          ]
        }
      ]
    },
    {
      "cell_type": "markdown",
      "source": [
        "#lets check if predictions match with h5"
      ],
      "metadata": {
        "id": "qoTyiK_PI54B"
      }
    },
    {
      "cell_type": "code",
      "source": [
        "loaded_h5_model_preds = loaded_h5_model.predict(X)"
      ],
      "metadata": {
        "colab": {
          "base_uri": "https://localhost:8080/"
        },
        "id": "_bSzT-sbIP50",
        "outputId": "7e517cef-3e03-41c7-d0eb-bd672bd5e298"
      },
      "execution_count": 64,
      "outputs": [
        {
          "output_type": "stream",
          "name": "stdout",
          "text": [
            "3/3 [==============================] - 0s 6ms/step\n"
          ]
        }
      ]
    },
    {
      "cell_type": "code",
      "source": [
        "loaded_h5_model_preds == model_1_preds"
      ],
      "metadata": {
        "colab": {
          "base_uri": "https://localhost:8080/"
        },
        "id": "izkYHrxZJIiq",
        "outputId": "ff31f21c-b36b-4ef3-a5c6-0bd8fa8d72aa"
      },
      "execution_count": 66,
      "outputs": [
        {
          "output_type": "execute_result",
          "data": {
            "text/plain": [
              "array([[ True],\n",
              "       [ True],\n",
              "       [ True],\n",
              "       [ True],\n",
              "       [ True],\n",
              "       [ True],\n",
              "       [ True],\n",
              "       [ True],\n",
              "       [ True],\n",
              "       [ True],\n",
              "       [ True],\n",
              "       [ True],\n",
              "       [ True],\n",
              "       [ True],\n",
              "       [ True],\n",
              "       [ True],\n",
              "       [ True],\n",
              "       [ True],\n",
              "       [ True],\n",
              "       [ True],\n",
              "       [ True],\n",
              "       [ True],\n",
              "       [ True],\n",
              "       [ True],\n",
              "       [ True],\n",
              "       [ True],\n",
              "       [ True],\n",
              "       [ True],\n",
              "       [ True],\n",
              "       [ True],\n",
              "       [ True],\n",
              "       [ True],\n",
              "       [ True],\n",
              "       [ True],\n",
              "       [ True],\n",
              "       [ True],\n",
              "       [ True],\n",
              "       [ True],\n",
              "       [ True],\n",
              "       [ True],\n",
              "       [ True],\n",
              "       [ True],\n",
              "       [ True],\n",
              "       [ True],\n",
              "       [ True],\n",
              "       [ True],\n",
              "       [ True],\n",
              "       [ True],\n",
              "       [ True],\n",
              "       [ True],\n",
              "       [ True],\n",
              "       [ True],\n",
              "       [ True],\n",
              "       [ True],\n",
              "       [ True],\n",
              "       [ True],\n",
              "       [ True],\n",
              "       [ True],\n",
              "       [ True],\n",
              "       [ True],\n",
              "       [ True],\n",
              "       [ True],\n",
              "       [ True],\n",
              "       [ True],\n",
              "       [ True],\n",
              "       [ True],\n",
              "       [ True],\n",
              "       [ True],\n",
              "       [ True],\n",
              "       [ True],\n",
              "       [ True],\n",
              "       [ True],\n",
              "       [ True],\n",
              "       [ True],\n",
              "       [ True],\n",
              "       [ True],\n",
              "       [ True],\n",
              "       [ True],\n",
              "       [ True],\n",
              "       [ True]])"
            ]
          },
          "metadata": {},
          "execution_count": 66
        }
      ]
    },
    {
      "cell_type": "code",
      "source": [],
      "metadata": {
        "id": "WKZ8tNGQJNZW"
      },
      "execution_count": null,
      "outputs": []
    }
  ]
}