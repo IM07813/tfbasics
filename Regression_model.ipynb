{
  "nbformat": 4,
  "nbformat_minor": 0,
  "metadata": {
    "colab": {
      "provenance": [],
      "authorship_tag": "ABX9TyNjW5nfRSnRPFWrdlFPEzXM",
      "include_colab_link": true
    },
    "kernelspec": {
      "name": "python3",
      "display_name": "Python 3"
    },
    "language_info": {
      "name": "python"
    }
  },
  "cells": [
    {
      "cell_type": "markdown",
      "metadata": {
        "id": "view-in-github",
        "colab_type": "text"
      },
      "source": [
        "<a href=\"https://colab.research.google.com/github/IM07813/tfbasics/blob/main/Regression_model.ipynb\" target=\"_parent\"><img src=\"https://colab.research.google.com/assets/colab-badge.svg\" alt=\"Open In Colab\"/></a>"
      ]
    },
    {
      "cell_type": "markdown",
      "source": [
        "#regression model\n",
        "1. linear regression \n",
        " 1. it makes the relation between independent and dependent variables through a line of best fit\n",
        "2. non-linear regression models:\n",
        "   1. they do exist, but are far more complex\n",
        "\n",
        "   input or independent variables are features, \n",
        "\n",
        "   output or dependent variables are labels\n",
        "\n",
        "\n",
        "\n"
      ],
      "metadata": {
        "id": "7XOEqD4qsbi4"
      }
    },
    {
      "cell_type": "code",
      "execution_count": null,
      "metadata": {
        "id": "WsXkLw1Ar0mC"
      },
      "outputs": [],
      "source": []
    },
    {
      "cell_type": "code",
      "source": [
        "import tensorflow as tf\n",
        "import numpy as np\n",
        "import matplotlib.pyplot as plt\n",
        "\n",
        "X = np.array([-8., -6., -2., 1. , 2, 5., 8., 11.])\n",
        "Y = X + 10"
      ],
      "metadata": {
        "id": "i7Yxgn2Xw0Xq"
      },
      "execution_count": 1,
      "outputs": []
    },
    {
      "cell_type": "code",
      "source": [
        "plt.scatter(X,Y);"
      ],
      "metadata": {
        "colab": {
          "base_uri": "https://localhost:8080/",
          "height": 430
        },
        "id": "rQIVtJTCxyP1",
        "outputId": "996f96f6-4259-43d1-8609-170250c0bbba"
      },
      "execution_count": 2,
      "outputs": [
        {
          "output_type": "display_data",
          "data": {
            "text/plain": [
              "<Figure size 640x480 with 1 Axes>"
            ],
            "image/png": "[encoded data removed]"
          },
          "metadata": {}
        }
      ]
    },
    {
      "cell_type": "code",
      "source": [
        "house_info = tf.constant(['bedroom', 'bathroom', 'garage'])\n",
        "house_price = tf.constant([564333])\n",
        "house_info , house_price"
      ],
      "metadata": {
        "colab": {
          "base_uri": "https://localhost:8080/"
        },
        "id": "XnLUT1Mmx3CD",
        "outputId": "9fab609c-28ab-49bd-882f-5a07dfaedd63"
      },
      "execution_count": 3,
      "outputs": [
        {
          "output_type": "execute_result",
          "data": {
            "text/plain": [
              "(<tf.Tensor: shape=(3,), dtype=string, numpy=array([b'bedroom', b'bathroom', b'garage'], dtype=object)>,\n",
              " <tf.Tensor: shape=(1,), dtype=int32, numpy=array([564333], dtype=int32)>)"
            ]
          },
          "metadata": {},
          "execution_count": 3
        }
      ]
    },
    {
      "cell_type": "code",
      "source": [
        "X = tf.cast(tf.constant(X),dtype = tf.float32)\n",
        "Y = tf.cast(tf.constant(Y), dtype = tf.float32)"
      ],
      "metadata": {
        "id": "S8eBGIF4yMfI"
      },
      "execution_count": 4,
      "outputs": []
    },
    {
      "cell_type": "code",
      "source": [
        "print(X)\n",
        "print(Y)\n",
        "X[0].shape"
      ],
      "metadata": {
        "colab": {
          "base_uri": "https://localhost:8080/"
        },
        "id": "HQlwe0gXzcR3",
        "outputId": "2caefebd-691d-484a-b1c1-af665618befd"
      },
      "execution_count": 5,
      "outputs": [
        {
          "output_type": "stream",
          "name": "stdout",
          "text": [
            "tf.Tensor([-8. -6. -2.  1.  2.  5.  8. 11.], shape=(8,), dtype=float32)\n",
            "tf.Tensor([ 2.  4.  8. 11. 12. 15. 18. 21.], shape=(8,), dtype=float32)\n"
          ]
        },
        {
          "output_type": "execute_result",
          "data": {
            "text/plain": [
              "TensorShape([])"
            ]
          },
          "metadata": {},
          "execution_count": 5
        }
      ]
    },
    {
      "cell_type": "code",
      "source": [
        "Y.shape\n",
        "from tensorflow import keras\n",
        "import tensorflow as tf\n",
        "\n"
      ],
      "metadata": {
        "id": "SINOc-YHzwop"
      },
      "execution_count": 6,
      "outputs": []
    },
    {
      "cell_type": "markdown",
      "source": [
        "1. getting data ready\n",
        "\n",
        "2. creating a model- define the input and output layers, as well as the hidden layers of a DLM.\n",
        "3. Compiling a model - define the loss function that tells the function how wrong it is and the optimizer which tells the model how to improve the patterns that it's learning and evaluation matrix is what we can use to interpret the performance of our model. \n",
        "4. fitting a model - letting model try to find patterns between X and Y. "
      ],
      "metadata": {
        "id": "V-RlF5id0ANG"
      }
    },
    {
      "cell_type": "markdown",
      "source": [
        "#.Sequential means that go layer after layer in a sequence manner\n",
        "\n"
      ],
      "metadata": {
        "id": "Kprkg4vq07oD"
      }
    },
    {
      "cell_type": "code",
      "source": [
        "\n",
        "tf.random.set_seed(42)\n",
        "model = tf.keras.Sequential([\n",
        "    tf.keras.layers.Dense(100, activation = None),\n",
        "    tf.keras.layers.Dense(100, activation = None),\n",
        "    tf.keras.layers.Dense(1)\n",
        "])\n",
        "model.compile(loss=tf.keras.losses.mae,\n",
        "              optimizer= tf.keras.optimizers.Adam(learning_rate=0.001),\n",
        "              metrics = ['mae'])\n"
      ],
      "metadata": {
        "id": "gxrBXezIzx-p"
      },
      "execution_count": 7,
      "outputs": []
    },
    {
      "cell_type": "code",
      "source": [
        "model.fit(tf.expand_dims(X, axis = -1), Y, epochs = 100)"
      ],
      "metadata": {
        "colab": {
          "base_uri": "https://localhost:8080/"
        },
        "id": "vPZfFilL19SF",
        "outputId": "3d27dae1-de93-4a43-ccac-8b13b5abaa30"
      },
      "execution_count": 8,
      "outputs": [
        {
          "output_type": "stream",
          "name": "stdout",
          "text": [
            "Epoch 1/100\n",
            "1/1 [==============================] - 1s 991ms/step - loss: 11.2454 - mae: 11.2454\n",
            "Epoch 2/100\n",
            "1/1 [==============================] - 0s 11ms/step - loss: 11.0239 - mae: 11.0239\n",
            "Epoch 3/100\n",
            "1/1 [==============================] - 0s 12ms/step - loss: 10.8016 - mae: 10.8016\n",
            "Epoch 4/100\n",
            "1/1 [==============================] - 0s 13ms/step - loss: 10.5780 - mae: 10.5780\n",
            "Epoch 5/100\n",
            "1/1 [==============================] - 0s 9ms/step - loss: 10.3524 - mae: 10.3524\n",
            "Epoch 6/100\n",
            "1/1 [==============================] - 0s 8ms/step - loss: 10.1241 - mae: 10.1241\n",
            "Epoch 7/100\n",
            "1/1 [==============================] - 0s 11ms/step - loss: 9.8923 - mae: 9.8923\n",
            "Epoch 8/100\n",
            "1/1 [==============================] - 0s 8ms/step - loss: 9.6564 - mae: 9.6564\n",
            "Epoch 9/100\n",
            "1/1 [==============================] - 0s 7ms/step - loss: 9.4157 - mae: 9.4157\n",
            "Epoch 10/100\n",
            "1/1 [==============================] - 0s 7ms/step - loss: 9.1696 - mae: 9.1696\n",
            "Epoch 11/100\n",
            "1/1 [==============================] - 0s 7ms/step - loss: 8.9174 - mae: 8.9174\n",
            "Epoch 12/100\n",
            "1/1 [==============================] - 0s 7ms/step - loss: 8.6583 - mae: 8.6583\n",
            "Epoch 13/100\n",
            "1/1 [==============================] - 0s 7ms/step - loss: 8.4805 - mae: 8.4805\n",
            "Epoch 14/100\n",
            "1/1 [==============================] - 0s 7ms/step - loss: 8.6170 - mae: 8.6170\n",
            "Epoch 15/100\n",
            "1/1 [==============================] - 0s 7ms/step - loss: 8.6998 - mae: 8.6998\n",
            "Epoch 16/100\n",
            "1/1 [==============================] - 0s 7ms/step - loss: 8.7370 - mae: 8.7370\n",
            "Epoch 17/100\n",
            "1/1 [==============================] - 0s 8ms/step - loss: 8.7359 - mae: 8.7359\n",
            "Epoch 18/100\n",
            "1/1 [==============================] - 0s 8ms/step - loss: 8.7028 - mae: 8.7028\n",
            "Epoch 19/100\n",
            "1/1 [==============================] - 0s 9ms/step - loss: 8.6431 - mae: 8.6431\n",
            "Epoch 20/100\n",
            "1/1 [==============================] - 0s 8ms/step - loss: 8.5616 - mae: 8.5616\n",
            "Epoch 21/100\n",
            "1/1 [==============================] - 0s 9ms/step - loss: 8.4622 - mae: 8.4622\n",
            "Epoch 22/100\n",
            "1/1 [==============================] - 0s 8ms/step - loss: 8.3485 - mae: 8.3485\n",
            "Epoch 23/100\n",
            "1/1 [==============================] - 0s 8ms/step - loss: 8.2234 - mae: 8.2234\n",
            "Epoch 24/100\n",
            "1/1 [==============================] - 0s 8ms/step - loss: 8.1662 - mae: 8.1662\n",
            "Epoch 25/100\n",
            "1/1 [==============================] - 0s 7ms/step - loss: 8.2138 - mae: 8.2138\n",
            "Epoch 26/100\n",
            "1/1 [==============================] - 0s 8ms/step - loss: 8.2234 - mae: 8.2234\n",
            "Epoch 27/100\n",
            "1/1 [==============================] - 0s 10ms/step - loss: 8.1996 - mae: 8.1996\n",
            "Epoch 28/100\n",
            "1/1 [==============================] - 0s 9ms/step - loss: 8.1462 - mae: 8.1462\n",
            "Epoch 29/100\n",
            "1/1 [==============================] - 0s 9ms/step - loss: 8.0659 - mae: 8.0659\n",
            "Epoch 30/100\n",
            "1/1 [==============================] - 0s 9ms/step - loss: 7.9610 - mae: 7.9610\n",
            "Epoch 31/100\n",
            "1/1 [==============================] - 0s 9ms/step - loss: 7.9458 - mae: 7.9458\n",
            "Epoch 32/100\n",
            "1/1 [==============================] - 0s 9ms/step - loss: 7.9597 - mae: 7.9597\n",
            "Epoch 33/100\n",
            "1/1 [==============================] - 0s 9ms/step - loss: 7.9499 - mae: 7.9499\n",
            "Epoch 34/100\n",
            "1/1 [==============================] - 0s 9ms/step - loss: 7.9187 - mae: 7.9187\n",
            "Epoch 35/100\n",
            "1/1 [==============================] - 0s 8ms/step - loss: 7.8685 - mae: 7.8685\n",
            "Epoch 36/100\n",
            "1/1 [==============================] - 0s 8ms/step - loss: 7.8014 - mae: 7.8014\n",
            "Epoch 37/100\n",
            "1/1 [==============================] - 0s 9ms/step - loss: 7.7195 - mae: 7.7195\n",
            "Epoch 38/100\n",
            "1/1 [==============================] - 0s 8ms/step - loss: 7.6582 - mae: 7.6582\n",
            "Epoch 39/100\n",
            "1/1 [==============================] - 0s 9ms/step - loss: 7.6544 - mae: 7.6544\n",
            "Epoch 40/100\n",
            "1/1 [==============================] - 0s 8ms/step - loss: 7.6148 - mae: 7.6148\n",
            "Epoch 41/100\n",
            "1/1 [==============================] - 0s 8ms/step - loss: 7.5428 - mae: 7.5428\n",
            "Epoch 42/100\n",
            "1/1 [==============================] - 0s 9ms/step - loss: 7.4960 - mae: 7.4960\n",
            "Epoch 43/100\n",
            "1/1 [==============================] - 0s 9ms/step - loss: 7.4738 - mae: 7.4738\n",
            "Epoch 44/100\n",
            "1/1 [==============================] - 0s 9ms/step - loss: 7.4321 - mae: 7.4321\n",
            "Epoch 45/100\n",
            "1/1 [==============================] - 0s 9ms/step - loss: 7.3726 - mae: 7.3726\n",
            "Epoch 46/100\n",
            "1/1 [==============================] - 0s 8ms/step - loss: 7.2972 - mae: 7.2972\n",
            "Epoch 47/100\n",
            "1/1 [==============================] - 0s 9ms/step - loss: 7.2878 - mae: 7.2878\n",
            "Epoch 48/100\n",
            "1/1 [==============================] - 0s 9ms/step - loss: 7.2566 - mae: 7.2566\n",
            "Epoch 49/100\n",
            "1/1 [==============================] - 0s 8ms/step - loss: 7.1879 - mae: 7.1879\n",
            "Epoch 50/100\n",
            "1/1 [==============================] - 0s 9ms/step - loss: 7.0847 - mae: 7.0847\n",
            "Epoch 51/100\n",
            "1/1 [==============================] - 0s 9ms/step - loss: 7.0827 - mae: 7.0827\n",
            "Epoch 52/100\n",
            "1/1 [==============================] - 0s 9ms/step - loss: 7.0589 - mae: 7.0589\n",
            "Epoch 53/100\n",
            "1/1 [==============================] - 0s 8ms/step - loss: 7.0141 - mae: 7.0141\n",
            "Epoch 54/100\n",
            "1/1 [==============================] - 0s 8ms/step - loss: 6.9501 - mae: 6.9501\n",
            "Epoch 55/100\n",
            "1/1 [==============================] - 0s 8ms/step - loss: 6.8685 - mae: 6.8685\n",
            "Epoch 56/100\n",
            "1/1 [==============================] - 0s 8ms/step - loss: 6.7709 - mae: 6.7709\n",
            "Epoch 57/100\n",
            "1/1 [==============================] - 0s 8ms/step - loss: 6.6616 - mae: 6.6616\n",
            "Epoch 58/100\n",
            "1/1 [==============================] - 0s 9ms/step - loss: 6.6179 - mae: 6.6179\n",
            "Epoch 59/100\n",
            "1/1 [==============================] - 0s 9ms/step - loss: 6.5305 - mae: 6.5305\n",
            "Epoch 60/100\n",
            "1/1 [==============================] - 0s 8ms/step - loss: 6.4743 - mae: 6.4743\n",
            "Epoch 61/100\n",
            "1/1 [==============================] - 0s 8ms/step - loss: 6.4135 - mae: 6.4135\n",
            "Epoch 62/100\n",
            "1/1 [==============================] - 0s 9ms/step - loss: 6.3326 - mae: 6.3326\n",
            "Epoch 63/100\n",
            "1/1 [==============================] - 0s 10ms/step - loss: 6.2329 - mae: 6.2329\n",
            "Epoch 64/100\n",
            "1/1 [==============================] - 0s 8ms/step - loss: 6.1417 - mae: 6.1417\n",
            "Epoch 65/100\n",
            "1/1 [==============================] - 0s 9ms/step - loss: 6.0592 - mae: 6.0592\n",
            "Epoch 66/100\n",
            "1/1 [==============================] - 0s 10ms/step - loss: 5.9590 - mae: 5.9590\n",
            "Epoch 67/100\n",
            "1/1 [==============================] - 0s 7ms/step - loss: 5.8704 - mae: 5.8704\n",
            "Epoch 68/100\n",
            "1/1 [==============================] - 0s 8ms/step - loss: 5.7612 - mae: 5.7612\n",
            "Epoch 69/100\n",
            "1/1 [==============================] - 0s 7ms/step - loss: 5.6945 - mae: 5.6945\n",
            "Epoch 70/100\n",
            "1/1 [==============================] - 0s 8ms/step - loss: 5.5855 - mae: 5.5855\n",
            "Epoch 71/100\n",
            "1/1 [==============================] - 0s 10ms/step - loss: 5.4540 - mae: 5.4540\n",
            "Epoch 72/100\n",
            "1/1 [==============================] - 0s 7ms/step - loss: 5.3525 - mae: 5.3525\n",
            "Epoch 73/100\n",
            "1/1 [==============================] - 0s 8ms/step - loss: 5.2285 - mae: 5.2285\n",
            "Epoch 74/100\n",
            "1/1 [==============================] - 0s 7ms/step - loss: 5.1131 - mae: 5.1131\n",
            "Epoch 75/100\n",
            "1/1 [==============================] - 0s 8ms/step - loss: 4.9756 - mae: 4.9756\n",
            "Epoch 76/100\n",
            "1/1 [==============================] - 0s 8ms/step - loss: 4.8724 - mae: 4.8724\n",
            "Epoch 77/100\n",
            "1/1 [==============================] - 0s 7ms/step - loss: 4.7529 - mae: 4.7529\n",
            "Epoch 78/100\n",
            "1/1 [==============================] - 0s 7ms/step - loss: 4.6085 - mae: 4.6085\n",
            "Epoch 79/100\n",
            "1/1 [==============================] - 0s 8ms/step - loss: 4.4406 - mae: 4.4406\n",
            "Epoch 80/100\n",
            "1/1 [==============================] - 0s 7ms/step - loss: 4.3004 - mae: 4.3004\n",
            "Epoch 81/100\n",
            "1/1 [==============================] - 0s 8ms/step - loss: 4.1506 - mae: 4.1506\n",
            "Epoch 82/100\n",
            "1/1 [==============================] - 0s 9ms/step - loss: 3.9580 - mae: 3.9580\n",
            "Epoch 83/100\n",
            "1/1 [==============================] - 0s 7ms/step - loss: 3.7970 - mae: 3.7970\n",
            "Epoch 84/100\n",
            "1/1 [==============================] - 0s 8ms/step - loss: 3.6088 - mae: 3.6088\n",
            "Epoch 85/100\n",
            "1/1 [==============================] - 0s 8ms/step - loss: 3.4822 - mae: 3.4822\n",
            "Epoch 86/100\n",
            "1/1 [==============================] - 0s 8ms/step - loss: 3.2861 - mae: 3.2861\n",
            "Epoch 87/100\n",
            "1/1 [==============================] - 0s 7ms/step - loss: 3.0577 - mae: 3.0577\n",
            "Epoch 88/100\n",
            "1/1 [==============================] - 0s 8ms/step - loss: 2.8707 - mae: 2.8707\n",
            "Epoch 89/100\n",
            "1/1 [==============================] - 0s 8ms/step - loss: 2.6531 - mae: 2.6531\n",
            "Epoch 90/100\n",
            "1/1 [==============================] - 0s 8ms/step - loss: 2.4317 - mae: 2.4317\n",
            "Epoch 91/100\n",
            "1/1 [==============================] - 0s 8ms/step - loss: 2.1916 - mae: 2.1916\n",
            "Epoch 92/100\n",
            "1/1 [==============================] - 0s 9ms/step - loss: 1.9737 - mae: 1.9737\n",
            "Epoch 93/100\n",
            "1/1 [==============================] - 0s 7ms/step - loss: 1.7299 - mae: 1.7299\n",
            "Epoch 94/100\n",
            "1/1 [==============================] - 0s 9ms/step - loss: 1.4796 - mae: 1.4796\n",
            "Epoch 95/100\n",
            "1/1 [==============================] - 0s 7ms/step - loss: 1.2057 - mae: 1.2057\n",
            "Epoch 96/100\n",
            "1/1 [==============================] - 0s 8ms/step - loss: 0.9454 - mae: 0.9454\n",
            "Epoch 97/100\n",
            "1/1 [==============================] - 0s 8ms/step - loss: 0.6583 - mae: 0.6583\n",
            "Epoch 98/100\n",
            "1/1 [==============================] - 0s 7ms/step - loss: 0.3893 - mae: 0.3893\n",
            "Epoch 99/100\n",
            "1/1 [==============================] - 0s 7ms/step - loss: 0.0621 - mae: 0.0621\n",
            "Epoch 100/100\n",
            "1/1 [==============================] - 0s 7ms/step - loss: 0.3469 - mae: 0.3469\n"
          ]
        },
        {
          "output_type": "execute_result",
          "data": {
            "text/plain": [
              "<keras.callbacks.History at 0x7fd7b5d94940>"
            ]
          },
          "metadata": {},
          "execution_count": 8
        }
      ]
    },
    {
      "cell_type": "markdown",
      "source": [
        "#time for predictions\n",
        "\n"
      ],
      "metadata": {
        "id": "jd4oyZL46XH6"
      }
    },
    {
      "cell_type": "code",
      "source": [
        "X,Y\n"
      ],
      "metadata": {
        "colab": {
          "base_uri": "https://localhost:8080/"
        },
        "id": "6bBYFUhf3ygS",
        "outputId": "4e877d81-6f1a-442e-de9b-a249d4cc3050"
      },
      "execution_count": 9,
      "outputs": [
        {
          "output_type": "execute_result",
          "data": {
            "text/plain": [
              "(<tf.Tensor: shape=(8,), dtype=float32, numpy=array([-8., -6., -2.,  1.,  2.,  5.,  8., 11.], dtype=float32)>,\n",
              " <tf.Tensor: shape=(8,), dtype=float32, numpy=array([ 2.,  4.,  8., 11., 12., 15., 18., 21.], dtype=float32)>)"
            ]
          },
          "metadata": {},
          "execution_count": 9
        }
      ]
    },
    {
      "cell_type": "code",
      "source": [
        "model.predict([2]) #still bad prediction"
      ],
      "metadata": {
        "colab": {
          "base_uri": "https://localhost:8080/"
        },
        "id": "bskc4YpT6ltd",
        "outputId": "e727d393-7b27-4e61-a7f5-14250d327a80"
      },
      "execution_count": 10,
      "outputs": [
        {
          "output_type": "stream",
          "name": "stdout",
          "text": [
            "1/1 [==============================] - 0s 100ms/step\n"
          ]
        },
        {
          "output_type": "execute_result",
          "data": {
            "text/plain": [
              "array([[12.598163]], dtype=float32)"
            ]
          },
          "metadata": {},
          "execution_count": 10
        }
      ]
    },
    {
      "cell_type": "code",
      "source": [
        "y_pred_1= model.predict(X)\n",
        "mse_1 = tf.metrics.mean_squared_error (y_true = Y,\n",
        "                                    y_pred = tf.squeeze(y_pred_1))\n",
        "mae_1 = tf.metrics.mean_absolute_error(y_true = Y,\n",
        "                                       y_pred = tf.squeeze(y_pred_1))"
      ],
      "metadata": {
        "colab": {
          "base_uri": "https://localhost:8080/"
        },
        "id": "OReBUTbHBRis",
        "outputId": "f4d84b96-cf3e-4653-8575-0b0ddefd3e33"
      },
      "execution_count": 29,
      "outputs": [
        {
          "output_type": "stream",
          "name": "stdout",
          "text": [
            "3/3 [==============================] - 0s 3ms/step\n"
          ]
        }
      ]
    },
    {
      "cell_type": "markdown",
      "source": [
        "#improving the model\n",
        "1. increase hidden layers or alter hidden neurons by increasing them\n",
        "2. use a different activation and optimizers in compiling step and change the learning rate\n",
        "3. change the epochs to a large number \n",
        "4. make your dataset large \n"
      ],
      "metadata": {
        "id": "HZARXM4lla16"
      }
    },
    {
      "cell_type": "code",
      "source": [
        "#make a bigger dataset\n",
        "X = tf.range(-200, 200, 5)"
      ],
      "metadata": {
        "id": "JXWYozHd-omA"
      },
      "execution_count": 11,
      "outputs": []
    },
    {
      "cell_type": "code",
      "source": [
        "Y= X+10\n",
        "len(X), len(Y)"
      ],
      "metadata": {
        "colab": {
          "base_uri": "https://localhost:8080/"
        },
        "id": "rnrscSjQrY6c",
        "outputId": "cc1c46ff-0ecb-432d-86f9-6dbf76bf9a94"
      },
      "execution_count": 12,
      "outputs": [
        {
          "output_type": "execute_result",
          "data": {
            "text/plain": [
              "(80, 80)"
            ]
          },
          "metadata": {},
          "execution_count": 12
        }
      ]
    },
    {
      "cell_type": "code",
      "source": [
        "plt.scatter(X,Y)"
      ],
      "metadata": {
        "colab": {
          "base_uri": "https://localhost:8080/",
          "height": 447
        },
        "id": "TIEpnnjjrbPc",
        "outputId": "cdb2487d-c85b-4ffd-c65f-95ca3448738b"
      },
      "execution_count": 13,
      "outputs": [
        {
          "output_type": "execute_result",
          "data": {
            "text/plain": [
              "<matplotlib.collections.PathCollection at 0x7fd7b5323700>"
            ]
          },
          "metadata": {},
          "execution_count": 13
        },
        {
          "output_type": "display_data",
          "data": {
            "text/plain": [
              "<Figure size 640x480 with 1 Axes>"
            ],
            "image/png": "[encoded data removed]"
          },
          "metadata": {}
        }
      ]
    },
    {
      "cell_type": "code",
      "source": [
        "X_train = X[:60]\n",
        "Y_train = Y[:60]\n",
        "\n",
        "X_test = X[60:]\n",
        "Y_test = Y[60:]"
      ],
      "metadata": {
        "id": "Famlj3zxrfrA"
      },
      "execution_count": 14,
      "outputs": []
    },
    {
      "cell_type": "code",
      "source": [
        "len(X_train), len(Y_train), len(X_test), len(Y_test)"
      ],
      "metadata": {
        "colab": {
          "base_uri": "https://localhost:8080/"
        },
        "id": "jS1JaBQisJ3P",
        "outputId": "b9a4071f-604d-46f8-aef1-ae6227776773"
      },
      "execution_count": 15,
      "outputs": [
        {
          "output_type": "execute_result",
          "data": {
            "text/plain": [
              "(60, 60, 20, 20)"
            ]
          },
          "metadata": {},
          "execution_count": 15
        }
      ]
    },
    {
      "cell_type": "code",
      "source": [
        "plt.figure(figsize =(10,7))\n",
        "plt.scatter(X_train, Y_train, c = 'b', label = 'training data')\n",
        "plt.scatter(X_test, Y_test, c = 'g', label = 'testing data')\n",
        "plt.legend();"
      ],
      "metadata": {
        "colab": {
          "base_uri": "https://localhost:8080/",
          "height": 599
        },
        "id": "ZZQSkhpotsTU",
        "outputId": "450252d9-7f3b-421e-df69-44e2951c0838"
      },
      "execution_count": 16,
      "outputs": [
        {
          "output_type": "display_data",
          "data": {
            "text/plain": [
              "<Figure size 1000x700 with 1 Axes>"
            ],
            "image/png": "[encoded data removed]"
          },
          "metadata": {}
        }
      ]
    },
    {
      "cell_type": "code",
      "source": [
        "tf.random.set_seed(42)\n",
        "model = tf.keras.Sequential([\n",
        "    tf.keras.layers.Dense(100, activation = None),\n",
        "    tf.keras.layers.Dense(100, activation = None),\n",
        "    tf.keras.layers.Dense(1)\n",
        "])\n",
        "model.compile(loss=tf.keras.losses.mae,\n",
        "              optimizer= tf.keras.optimizers.Adam(learning_rate=0.001),\n",
        "              metrics = ['mae'])"
      ],
      "metadata": {
        "id": "gsxk1OwouZML"
      },
      "execution_count": 17,
      "outputs": []
    },
    {
      "cell_type": "code",
      "source": [
        "model.fit(tf.expand_dims(X_train, axis = -1), Y_train, epochs = 100)"
      ],
      "metadata": {
        "colab": {
          "base_uri": "https://localhost:8080/"
        },
        "id": "OeLwjZwLwbBD",
        "outputId": "6399aede-5bfe-44ea-811e-d97235a1ffcf"
      },
      "execution_count": 18,
      "outputs": [
        {
          "output_type": "stream",
          "name": "stdout",
          "text": [
            "Epoch 1/100\n",
            "2/2 [==============================] - 1s 10ms/step - loss: 90.4160 - mae: 90.4160\n",
            "Epoch 2/100\n",
            "2/2 [==============================] - 0s 7ms/step - loss: 61.4810 - mae: 61.4810\n",
            "Epoch 3/100\n",
            "2/2 [==============================] - 0s 14ms/step - loss: 35.2404 - mae: 35.2404\n",
            "Epoch 4/100\n",
            "2/2 [==============================] - 0s 22ms/step - loss: 12.1869 - mae: 12.1869\n",
            "Epoch 5/100\n",
            "2/2 [==============================] - 0s 7ms/step - loss: 19.7241 - mae: 19.7241\n",
            "Epoch 6/100\n",
            "2/2 [==============================] - 0s 8ms/step - loss: 28.3369 - mae: 28.3369\n",
            "Epoch 7/100\n",
            "2/2 [==============================] - 0s 7ms/step - loss: 26.9557 - mae: 26.9557\n",
            "Epoch 8/100\n",
            "2/2 [==============================] - 0s 7ms/step - loss: 19.9815 - mae: 19.9815\n",
            "Epoch 9/100\n",
            "2/2 [==============================] - 0s 7ms/step - loss: 11.0075 - mae: 11.0075\n",
            "Epoch 10/100\n",
            "2/2 [==============================] - 0s 7ms/step - loss: 10.3512 - mae: 10.3512\n",
            "Epoch 11/100\n",
            "2/2 [==============================] - 0s 8ms/step - loss: 15.7371 - mae: 15.7371\n",
            "Epoch 12/100\n",
            "2/2 [==============================] - 0s 9ms/step - loss: 15.4834 - mae: 15.4834\n",
            "Epoch 13/100\n",
            "2/2 [==============================] - 0s 7ms/step - loss: 10.7818 - mae: 10.7818\n",
            "Epoch 14/100\n",
            "2/2 [==============================] - 0s 8ms/step - loss: 7.9069 - mae: 7.9069\n",
            "Epoch 15/100\n",
            "2/2 [==============================] - 0s 6ms/step - loss: 11.4707 - mae: 11.4707\n",
            "Epoch 16/100\n",
            "2/2 [==============================] - 0s 7ms/step - loss: 11.9392 - mae: 11.9392\n",
            "Epoch 17/100\n",
            "2/2 [==============================] - 0s 7ms/step - loss: 9.9465 - mae: 9.9465\n",
            "Epoch 18/100\n",
            "2/2 [==============================] - 0s 10ms/step - loss: 7.4092 - mae: 7.4092\n",
            "Epoch 19/100\n",
            "2/2 [==============================] - 0s 8ms/step - loss: 10.0314 - mae: 10.0314\n",
            "Epoch 20/100\n",
            "2/2 [==============================] - 0s 9ms/step - loss: 9.7808 - mae: 9.7808\n",
            "Epoch 21/100\n",
            "2/2 [==============================] - 0s 10ms/step - loss: 7.3317 - mae: 7.3317\n",
            "Epoch 22/100\n",
            "2/2 [==============================] - 0s 8ms/step - loss: 8.3312 - mae: 8.3312\n",
            "Epoch 23/100\n",
            "2/2 [==============================] - 0s 8ms/step - loss: 8.0897 - mae: 8.0897\n",
            "Epoch 24/100\n",
            "2/2 [==============================] - 0s 8ms/step - loss: 6.8174 - mae: 6.8174\n",
            "Epoch 25/100\n",
            "2/2 [==============================] - 0s 8ms/step - loss: 7.5916 - mae: 7.5916\n",
            "Epoch 26/100\n",
            "2/2 [==============================] - 0s 7ms/step - loss: 6.8056 - mae: 6.8056\n",
            "Epoch 27/100\n",
            "2/2 [==============================] - 0s 9ms/step - loss: 7.4449 - mae: 7.4449\n",
            "Epoch 28/100\n",
            "2/2 [==============================] - 0s 7ms/step - loss: 6.8502 - mae: 6.8502\n",
            "Epoch 29/100\n",
            "2/2 [==============================] - 0s 7ms/step - loss: 6.8961 - mae: 6.8961\n",
            "Epoch 30/100\n",
            "2/2 [==============================] - 0s 15ms/step - loss: 6.6857 - mae: 6.6857\n",
            "Epoch 31/100\n",
            "2/2 [==============================] - 0s 9ms/step - loss: 6.7994 - mae: 6.7994\n",
            "Epoch 32/100\n",
            "2/2 [==============================] - 0s 7ms/step - loss: 6.4767 - mae: 6.4767\n",
            "Epoch 33/100\n",
            "2/2 [==============================] - 0s 7ms/step - loss: 6.8163 - mae: 6.8163\n",
            "Epoch 34/100\n",
            "2/2 [==============================] - 0s 7ms/step - loss: 6.3539 - mae: 6.3539\n",
            "Epoch 35/100\n",
            "2/2 [==============================] - 0s 6ms/step - loss: 6.4861 - mae: 6.4861\n",
            "Epoch 36/100\n",
            "2/2 [==============================] - 0s 7ms/step - loss: 6.4948 - mae: 6.4948\n",
            "Epoch 37/100\n",
            "2/2 [==============================] - 0s 6ms/step - loss: 6.5158 - mae: 6.5158\n",
            "Epoch 38/100\n",
            "2/2 [==============================] - 0s 6ms/step - loss: 6.4044 - mae: 6.4044\n",
            "Epoch 39/100\n",
            "2/2 [==============================] - 0s 6ms/step - loss: 6.3882 - mae: 6.3882\n",
            "Epoch 40/100\n",
            "2/2 [==============================] - 0s 7ms/step - loss: 6.2274 - mae: 6.2274\n",
            "Epoch 41/100\n",
            "2/2 [==============================] - 0s 7ms/step - loss: 6.2683 - mae: 6.2683\n",
            "Epoch 42/100\n",
            "2/2 [==============================] - 0s 9ms/step - loss: 6.0492 - mae: 6.0492\n",
            "Epoch 43/100\n",
            "2/2 [==============================] - 0s 8ms/step - loss: 6.1303 - mae: 6.1303\n",
            "Epoch 44/100\n",
            "2/2 [==============================] - 0s 7ms/step - loss: 6.0268 - mae: 6.0268\n",
            "Epoch 45/100\n",
            "2/2 [==============================] - 0s 6ms/step - loss: 5.9413 - mae: 5.9413\n",
            "Epoch 46/100\n",
            "2/2 [==============================] - 0s 7ms/step - loss: 6.0486 - mae: 6.0486\n",
            "Epoch 47/100\n",
            "2/2 [==============================] - 0s 7ms/step - loss: 5.9461 - mae: 5.9461\n",
            "Epoch 48/100\n",
            "2/2 [==============================] - 0s 6ms/step - loss: 5.8432 - mae: 5.8432\n",
            "Epoch 49/100\n",
            "2/2 [==============================] - 0s 7ms/step - loss: 6.0599 - mae: 6.0599\n",
            "Epoch 50/100\n",
            "2/2 [==============================] - 0s 7ms/step - loss: 5.7964 - mae: 5.7964\n",
            "Epoch 51/100\n",
            "2/2 [==============================] - 0s 7ms/step - loss: 5.8817 - mae: 5.8817\n",
            "Epoch 52/100\n",
            "2/2 [==============================] - 0s 8ms/step - loss: 6.3401 - mae: 6.3401\n",
            "Epoch 53/100\n",
            "2/2 [==============================] - 0s 7ms/step - loss: 5.9060 - mae: 5.9060\n",
            "Epoch 54/100\n",
            "2/2 [==============================] - 0s 7ms/step - loss: 5.8763 - mae: 5.8763\n",
            "Epoch 55/100\n",
            "2/2 [==============================] - 0s 7ms/step - loss: 5.7196 - mae: 5.7196\n",
            "Epoch 56/100\n",
            "2/2 [==============================] - 0s 6ms/step - loss: 5.7288 - mae: 5.7288\n",
            "Epoch 57/100\n",
            "2/2 [==============================] - 0s 6ms/step - loss: 5.7355 - mae: 5.7355\n",
            "Epoch 58/100\n",
            "2/2 [==============================] - 0s 6ms/step - loss: 5.4890 - mae: 5.4890\n",
            "Epoch 59/100\n",
            "2/2 [==============================] - 0s 8ms/step - loss: 5.6046 - mae: 5.6046\n",
            "Epoch 60/100\n",
            "2/2 [==============================] - 0s 7ms/step - loss: 5.4150 - mae: 5.4150\n",
            "Epoch 61/100\n",
            "2/2 [==============================] - 0s 8ms/step - loss: 5.7625 - mae: 5.7625\n",
            "Epoch 62/100\n",
            "2/2 [==============================] - 0s 8ms/step - loss: 5.8911 - mae: 5.8911\n",
            "Epoch 63/100\n",
            "2/2 [==============================] - 0s 7ms/step - loss: 5.6631 - mae: 5.6631\n",
            "Epoch 64/100\n",
            "2/2 [==============================] - 0s 6ms/step - loss: 5.3152 - mae: 5.3152\n",
            "Epoch 65/100\n",
            "2/2 [==============================] - 0s 7ms/step - loss: 5.7008 - mae: 5.7008\n",
            "Epoch 66/100\n",
            "2/2 [==============================] - 0s 7ms/step - loss: 5.5171 - mae: 5.5171\n",
            "Epoch 67/100\n",
            "2/2 [==============================] - 0s 6ms/step - loss: 5.6522 - mae: 5.6522\n",
            "Epoch 68/100\n",
            "2/2 [==============================] - 0s 6ms/step - loss: 5.7905 - mae: 5.7905\n",
            "Epoch 69/100\n",
            "2/2 [==============================] - 0s 8ms/step - loss: 5.1458 - mae: 5.1458\n",
            "Epoch 70/100\n",
            "2/2 [==============================] - 0s 5ms/step - loss: 5.3742 - mae: 5.3742\n",
            "Epoch 71/100\n",
            "2/2 [==============================] - 0s 6ms/step - loss: 5.3263 - mae: 5.3263\n",
            "Epoch 72/100\n",
            "2/2 [==============================] - 0s 6ms/step - loss: 4.9501 - mae: 4.9501\n",
            "Epoch 73/100\n",
            "2/2 [==============================] - 0s 6ms/step - loss: 5.7119 - mae: 5.7119\n",
            "Epoch 74/100\n",
            "2/2 [==============================] - 0s 5ms/step - loss: 5.0146 - mae: 5.0146\n",
            "Epoch 75/100\n",
            "2/2 [==============================] - 0s 5ms/step - loss: 6.1985 - mae: 6.1985\n",
            "Epoch 76/100\n",
            "2/2 [==============================] - 0s 6ms/step - loss: 5.2834 - mae: 5.2834\n",
            "Epoch 77/100\n",
            "2/2 [==============================] - 0s 6ms/step - loss: 6.5313 - mae: 6.5313\n",
            "Epoch 78/100\n",
            "2/2 [==============================] - 0s 5ms/step - loss: 5.0283 - mae: 5.0283\n",
            "Epoch 79/100\n",
            "2/2 [==============================] - 0s 6ms/step - loss: 5.6712 - mae: 5.6712\n",
            "Epoch 80/100\n",
            "2/2 [==============================] - 0s 9ms/step - loss: 4.8656 - mae: 4.8656\n",
            "Epoch 81/100\n",
            "2/2 [==============================] - 0s 8ms/step - loss: 5.2665 - mae: 5.2665\n",
            "Epoch 82/100\n",
            "2/2 [==============================] - 0s 6ms/step - loss: 4.5821 - mae: 4.5821\n",
            "Epoch 83/100\n",
            "2/2 [==============================] - 0s 6ms/step - loss: 4.7766 - mae: 4.7766\n",
            "Epoch 84/100\n",
            "2/2 [==============================] - 0s 7ms/step - loss: 4.4514 - mae: 4.4514\n",
            "Epoch 85/100\n",
            "2/2 [==============================] - 0s 6ms/step - loss: 4.3000 - mae: 4.3000\n",
            "Epoch 86/100\n",
            "2/2 [==============================] - 0s 6ms/step - loss: 4.1627 - mae: 4.1627\n",
            "Epoch 87/100\n",
            "2/2 [==============================] - 0s 5ms/step - loss: 4.3091 - mae: 4.3091\n",
            "Epoch 88/100\n",
            "2/2 [==============================] - 0s 7ms/step - loss: 4.2375 - mae: 4.2375\n",
            "Epoch 89/100\n",
            "2/2 [==============================] - 0s 6ms/step - loss: 4.1844 - mae: 4.1844\n",
            "Epoch 90/100\n",
            "2/2 [==============================] - 0s 6ms/step - loss: 4.1352 - mae: 4.1352\n",
            "Epoch 91/100\n",
            "2/2 [==============================] - 0s 6ms/step - loss: 4.0991 - mae: 4.0991\n",
            "Epoch 92/100\n",
            "2/2 [==============================] - 0s 13ms/step - loss: 3.9257 - mae: 3.9257\n",
            "Epoch 93/100\n",
            "2/2 [==============================] - 0s 5ms/step - loss: 3.7048 - mae: 3.7048\n",
            "Epoch 94/100\n",
            "2/2 [==============================] - 0s 5ms/step - loss: 3.7895 - mae: 3.7895\n",
            "Epoch 95/100\n",
            "2/2 [==============================] - 0s 5ms/step - loss: 4.3907 - mae: 4.3907\n",
            "Epoch 96/100\n",
            "2/2 [==============================] - 0s 6ms/step - loss: 3.9280 - mae: 3.9280\n",
            "Epoch 97/100\n",
            "2/2 [==============================] - 0s 6ms/step - loss: 3.9059 - mae: 3.9059\n",
            "Epoch 98/100\n",
            "2/2 [==============================] - 0s 5ms/step - loss: 4.1285 - mae: 4.1285\n",
            "Epoch 99/100\n",
            "2/2 [==============================] - 0s 10ms/step - loss: 3.5170 - mae: 3.5170\n",
            "Epoch 100/100\n",
            "2/2 [==============================] - 0s 6ms/step - loss: 3.6497 - mae: 3.6497\n"
          ]
        },
        {
          "output_type": "execute_result",
          "data": {
            "text/plain": [
              "<keras.callbacks.History at 0x7fd7b632b3d0>"
            ]
          },
          "metadata": {},
          "execution_count": 18
        }
      ]
    },
    {
      "cell_type": "code",
      "source": [
        "y_pred= model.predict(X_test)\n",
        "y_pred.shape"
      ],
      "metadata": {
        "colab": {
          "base_uri": "https://localhost:8080/"
        },
        "id": "PLkd-0YXwkuM",
        "outputId": "5b1e5bf9-ea62-465a-afed-563903e842be"
      },
      "execution_count": 23,
      "outputs": [
        {
          "output_type": "stream",
          "name": "stdout",
          "text": [
            "1/1 [==============================] - 0s 71ms/step\n"
          ]
        },
        {
          "output_type": "execute_result",
          "data": {
            "text/plain": [
              "(20, 1)"
            ]
          },
          "metadata": {},
          "execution_count": 23
        }
      ]
    },
    {
      "cell_type": "markdown",
      "source": [
        "#plot function:\n"
      ],
      "metadata": {
        "id": "zH422kle5T5v"
      }
    },
    {
      "cell_type": "code",
      "source": [
        "def plot_predict(train_data = X_train, \n",
        "                 train_labels = Y_train,\n",
        "                 test_data = X_test,\n",
        "                 test_labels=Y_test,\n",
        "                 predictions= y_pred):\n",
        "  plt.figure(figsize=(10,7))\n",
        "  plt.scatter(train_data, train_labels, c = 'b', label= 'train_data')\n",
        "  plt.scatter(test_data, test_labels, c='g', label= 'testing data')\n",
        "  plt.scatter(test_data, predictions, c = 'r', label = 'predictions')\n",
        "  plt.legend();"
      ],
      "metadata": {
        "id": "Z1F2k0qXx6zu"
      },
      "execution_count": 20,
      "outputs": []
    },
    {
      "cell_type": "code",
      "source": [
        "plot_predict()"
      ],
      "metadata": {
        "colab": {
          "base_uri": "https://localhost:8080/",
          "height": 599
        },
        "id": "PhnmYNIs6iIA",
        "outputId": "81fcbbbb-7044-4835-ba3c-1827e82947f1"
      },
      "execution_count": 21,
      "outputs": [
        {
          "output_type": "display_data",
          "data": {
            "text/plain": [
              "<Figure size 1000x700 with 1 Axes>"
            ],
            "image/png": "[encoded data removed]"
          },
          "metadata": {}
        }
      ]
    },
    {
      "cell_type": "markdown",
      "source": [
        "#evaluating model:\n",
        "1. MAE: mean-absolute error, it tells us, how far off are our model's predictions\n",
        "2. MSE: mean-squared-error, it tells us, how far off are our model's predictions after squaring the averages "
      ],
      "metadata": {
        "id": "HsIdWgFT7oPq"
      }
    },
    {
      "cell_type": "code",
      "source": [
        "model.evaluate(X_test, Y_test)"
      ],
      "metadata": {
        "id": "cx6OKt_T7Cig",
        "colab": {
          "base_uri": "https://localhost:8080/"
        },
        "outputId": "e34810cc-8fb9-4890-ce2c-12c1f9ae8aaa"
      },
      "execution_count": 22,
      "outputs": [
        {
          "output_type": "stream",
          "name": "stdout",
          "text": [
            "1/1 [==============================] - 0s 278ms/step - loss: 12.1186 - mae: 12.1186\n"
          ]
        },
        {
          "output_type": "execute_result",
          "data": {
            "text/plain": [
              "[12.118612289428711, 12.118612289428711]"
            ]
          },
          "metadata": {},
          "execution_count": 22
        }
      ]
    },
    {
      "cell_type": "code",
      "source": [
        "#calculate the mean-absolute-error\n",
        "#good for any regression problem\n",
        "mae_2 = tf.metrics.mean_absolute_error(y_true = Y_test,\n",
        "                                     y_pred = tf.squeeze(y_pred))\n",
        "mae_2"
      ],
      "metadata": {
        "colab": {
          "base_uri": "https://localhost:8080/"
        },
        "id": "YJ9_W-mg8U_l",
        "outputId": "7c14d96f-a470-4b3d-adb5-32ae0acb5e34"
      },
      "execution_count": 31,
      "outputs": [
        {
          "output_type": "execute_result",
          "data": {
            "text/plain": [
              "<tf.Tensor: shape=(), dtype=float32, numpy=12.118608>"
            ]
          },
          "metadata": {},
          "execution_count": 31
        }
      ]
    },
    {
      "cell_type": "code",
      "source": [
        "#calculate the mean-square-error\n",
        "#when larger errors are more significant than smaller errors\n",
        "mse_2 = tf.metrics.mean_squared_error (y_true = Y_test,\n",
        "                                    y_pred = tf.squeeze(y_pred))\n",
        "mse_2"
      ],
      "metadata": {
        "colab": {
          "base_uri": "https://localhost:8080/"
        },
        "id": "aTgOBwIr98Wo",
        "outputId": "8a27d13e-e6ee-4066-cab5-7e658d4f0cbb"
      },
      "execution_count": 32,
      "outputs": [
        {
          "output_type": "execute_result",
          "data": {
            "text/plain": [
              "<tf.Tensor: shape=(), dtype=float32, numpy=149.17404>"
            ]
          },
          "metadata": {},
          "execution_count": 32
        }
      ]
    },
    {
      "cell_type": "code",
      "source": [],
      "metadata": {
        "id": "cXuxHVPXAx9Z"
      },
      "execution_count": 32,
      "outputs": []
    },
    {
      "cell_type": "code",
      "source": [
        "import pandas as pd\n",
        "model_results = [[\"model-1\", mae_1.numpy(), mse_1.numpy()],\n",
        "                 [\"model-2\", mae_2.numpy(), mse_2.numpy()]]\n",
        "all_results = pd.DataFrame(model_results, columns =['model-1', 'mae', 'mse'])\n",
        "all_results"
      ],
      "metadata": {
        "colab": {
          "base_uri": "https://localhost:8080/",
          "height": 112
        },
        "id": "ZWXdIBFw-Q-Y",
        "outputId": "b654ce62-7619-4fd6-a545-92978909fe57"
      },
      "execution_count": 34,
      "outputs": [
        {
          "output_type": "execute_result",
          "data": {
            "text/plain": [
              "   model-1        mae         mse\n",
              "0  model-1   6.113547   54.787010\n",
              "1  model-2  12.118608  149.174042"
            ],
            "text/html": [
              "\n",
              "  <div id=\"df-30d27e54-a7e7-4c9d-b4c7-1e964184a51c\">\n",
              "    <div class=\"colab-df-container\">\n",
              "      <div>\n",
              "<style scoped>\n",
              "    .dataframe tbody tr th:only-of-type {\n",
              "        vertical-align: middle;\n",
              "    }\n",
              "\n",
              "    .dataframe tbody tr th {\n",
              "        vertical-align: top;\n",
              "    }\n",
              "\n",
              "    .dataframe thead th {\n",
              "        text-align: right;\n",
              "    }\n",
              "</style>\n",
              "<table border=\"1\" class=\"dataframe\">\n",
              "  <thead>\n",
              "    <tr style=\"text-align: right;\">\n",
              "      <th></th>\n",
              "      <th>model-1</th>\n",
              "      <th>mae</th>\n",
              "      <th>mse</th>\n",
              "    </tr>\n",
              "  </thead>\n",
              "  <tbody>\n",
              "    <tr>\n",
              "      <th>0</th>\n",
              "      <td>model-1</td>\n",
              "      <td>6.113547</td>\n",
              "      <td>54.787010</td>\n",
              "    </tr>\n",
              "    <tr>\n",
              "      <th>1</th>\n",
              "      <td>model-2</td>\n",
              "      <td>12.118608</td>\n",
              "      <td>149.174042</td>\n",
              "    </tr>\n",
              "  </tbody>\n",
              "</table>\n",
              "</div>\n",
              "      <button class=\"colab-df-convert\" onclick=\"convertToInteractive('df-30d27e54-a7e7-4c9d-b4c7-1e964184a51c')\"\n",
              "              title=\"Convert this dataframe to an interactive table.\"\n",
              "              style=\"display:none;\">\n",
              "        \n",
              "  <svg xmlns=\"http://www.w3.org/2000/svg\" height=\"24px\"viewBox=\"0 0 24 24\"\n",
              "       width=\"24px\">\n",
              "    <path d=\"M0 0h24v24H0V0z\" fill=\"none\"/>\n",
              "    <path d=\"M18.56 5.44l.94 2.06.94-2.06 2.06-.94-2.06-.94-.94-2.06-.94 2.06-2.06.94zm-11 1L8.5 8.5l.94-2.06 2.06-.94-2.06-.94L8.5 2.5l-.94 2.06-2.06.94zm10 10l.94 2.06.94-2.06 2.06-.94-2.06-.94-.94-2.06-.94 2.06-2.06.94z\"/><path d=\"M17.41 7.96l-1.37-1.37c-.4-.4-.92-.59-1.43-.59-.52 0-1.04.2-1.43.59L10.3 9.45l-7.72 7.72c-.78.78-.78 2.05 0 2.83L4 21.41c.39.39.9.59 1.41.59.51 0 1.02-.2 1.41-.59l7.78-7.78 2.81-2.81c.8-.78.8-2.07 0-2.86zM5.41 20L4 18.59l7.72-7.72 1.47 1.35L5.41 20z\"/>\n",
              "  </svg>\n",
              "      </button>\n",
              "      \n",
              "  <style>\n",
              "    .colab-df-container {\n",
              "      display:flex;\n",
              "      flex-wrap:wrap;\n",
              "      gap: 12px;\n",
              "    }\n",
              "\n",
              "    .colab-df-convert {\n",
              "      background-color: #E8F0FE;\n",
              "      border: none;\n",
              "      border-radius: 50%;\n",
              "      cursor: pointer;\n",
              "      display: none;\n",
              "      fill: #1967D2;\n",
              "      height: 32px;\n",
              "      padding: 0 0 0 0;\n",
              "      width: 32px;\n",
              "    }\n",
              "\n",
              "    .colab-df-convert:hover {\n",
              "      background-color: #E2EBFA;\n",
              "      box-shadow: 0px 1px 2px rgba(60, 64, 67, 0.3), 0px 1px 3px 1px rgba(60, 64, 67, 0.15);\n",
              "      fill: #174EA6;\n",
              "    }\n",
              "\n",
              "    [theme=dark] .colab-df-convert {\n",
              "      background-color: #3B4455;\n",
              "      fill: #D2E3FC;\n",
              "    }\n",
              "\n",
              "    [theme=dark] .colab-df-convert:hover {\n",
              "      background-color: #434B5C;\n",
              "      box-shadow: 0px 1px 3px 1px rgba(0, 0, 0, 0.15);\n",
              "      filter: drop-shadow(0px 1px 2px rgba(0, 0, 0, 0.3));\n",
              "      fill: #FFFFFF;\n",
              "    }\n",
              "  </style>\n",
              "\n",
              "      <script>\n",
              "        const buttonEl =\n",
              "          document.querySelector('#df-30d27e54-a7e7-4c9d-b4c7-1e964184a51c button.colab-df-convert');\n",
              "        buttonEl.style.display =\n",
              "          google.colab.kernel.accessAllowed ? 'block' : 'none';\n",
              "\n",
              "        async function convertToInteractive(key) {\n",
              "          const element = document.querySelector('#df-30d27e54-a7e7-4c9d-b4c7-1e964184a51c');\n",
              "          const dataTable =\n",
              "            await google.colab.kernel.invokeFunction('convertToInteractive',\n",
              "                                                     [key], {});\n",
              "          if (!dataTable) return;\n",
              "\n",
              "          const docLinkHtml = 'Like what you see? Visit the ' +\n",
              "            '<a target=\"_blank\" href=https://colab.research.google.com/notebooks/data_table.ipynb>data table notebook</a>'\n",
              "            + ' to learn more about interactive tables.';\n",
              "          element.innerHTML = '';\n",
              "          dataTable['output_type'] = 'display_data';\n",
              "          await google.colab.output.renderOutput(dataTable, element);\n",
              "          const docLink = document.createElement('div');\n",
              "          docLink.innerHTML = docLinkHtml;\n",
              "          element.appendChild(docLink);\n",
              "        }\n",
              "      </script>\n",
              "    </div>\n",
              "  </div>\n",
              "  "
            ]
          },
          "metadata": {},
          "execution_count": 34
        }
      ]
    },
    {
      "cell_type": "code",
      "source": [
        "#something to remind me on github"
      ],
      "metadata": {
        "id": "KHA-IBo4Ame6"
      },
      "execution_count": null,
      "outputs": []
    }
  ]
}